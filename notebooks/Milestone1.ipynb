{
 "cells": [
  {
   "cell_type": "markdown",
   "id": "2f9738c6-814e-4d87-b75b-37c3e6d52162",
   "metadata": {},
   "source": [
    "Here goes work. "
   ]
  },
  {
   "cell_type": "code",
   "execution_count": null,
   "id": "a9e3e340-c0ec-4747-bd7b-b5a9ed7dfb78",
   "metadata": {},
   "outputs": [],
   "source": []
  }
 ],
 "metadata": {
  "kernelspec": {
   "display_name": "Python [conda env:575]",
   "language": "python",
   "name": "conda-env-575-py"
  },
  "language_info": {
   "codemirror_mode": {
    "name": "ipython",
    "version": 3
   },
   "file_extension": ".py",
   "mimetype": "text/x-python",
   "name": "python",
   "nbconvert_exporter": "python",
   "pygments_lexer": "ipython3",
   "version": "3.10.10"
  }
 },
 "nbformat": 4,
 "nbformat_minor": 5
}
