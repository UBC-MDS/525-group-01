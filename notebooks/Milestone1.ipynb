{
 "cells": [
  {
   "cell_type": "code",
   "execution_count": 1,
   "id": "a9e3e340-c0ec-4747-bd7b-b5a9ed7dfb78",
   "metadata": {},
   "outputs": [],
   "source": [
    "import re\n",
    "import os\n",
    "import glob\n",
    "import zipfile\n",
    "import requests\n",
    "from urllib.request import urlretrieve\n",
    "import json\n",
    "import pandas as pd"
   ]
  },
  {
   "cell_type": "markdown",
   "id": "af51c254-82eb-49a3-b81c-b2afce9ebd52",
   "metadata": {},
   "source": [
    "# Downloading the data"
   ]
  },
  {
   "cell_type": "code",
   "execution_count": 2,
   "id": "4deaf25d-0a69-4245-b86c-5d98addb7b60",
   "metadata": {},
   "outputs": [
    {
     "data": {
      "text/plain": [
       "'C:\\\\Users\\\\robin\\\\Downloads\\\\MDS\\\\Block 6\\\\DSCI 525\\\\525-group-01\\\\notebooks'"
      ]
     },
     "execution_count": 2,
     "metadata": {},
     "output_type": "execute_result"
    }
   ],
   "source": [
    "%pwd\n",
    "## Change it to the location that you want to download your files to."
   ]
  },
  {
   "cell_type": "code",
   "execution_count": 3,
   "id": "e20201c6-a5de-4141-a6c9-3b788a8db401",
   "metadata": {},
   "outputs": [],
   "source": [
    "article_id = 14096681  # this is the unique identifier of the article on figshare\n",
    "url = f\"https://api.figshare.com/v2/articles/{article_id}\"\n",
    "headers = {\"Content-Type\": \"application/json\"}\n",
    "output_directory = \"rainfall/\""
   ]
  },
  {
   "cell_type": "code",
   "execution_count": 4,
   "id": "29304f02-07be-4bf8-8d95-e4a49521da71",
   "metadata": {
    "collapsed": true,
    "jupyter": {
     "outputs_hidden": true
    },
    "tags": []
   },
   "outputs": [
    {
     "data": {
      "text/plain": [
       "[{'id': 26579150,\n",
       "  'name': 'daily_rainfall_2014.png',\n",
       "  'size': 58863,\n",
       "  'is_link_only': False,\n",
       "  'download_url': 'https://ndownloader.figshare.com/files/26579150',\n",
       "  'supplied_md5': 'fd32a2ffde300a31f8d63b1825d47e5e',\n",
       "  'computed_md5': 'fd32a2ffde300a31f8d63b1825d47e5e'},\n",
       " {'id': 26579171,\n",
       "  'name': 'environment.yml',\n",
       "  'size': 192,\n",
       "  'is_link_only': False,\n",
       "  'download_url': 'https://ndownloader.figshare.com/files/26579171',\n",
       "  'supplied_md5': '060b2020017eed93a1ee7dd8c65b2f34',\n",
       "  'computed_md5': '060b2020017eed93a1ee7dd8c65b2f34'},\n",
       " {'id': 26586554,\n",
       "  'name': 'README.md',\n",
       "  'size': 5422,\n",
       "  'is_link_only': False,\n",
       "  'download_url': 'https://ndownloader.figshare.com/files/26586554',\n",
       "  'supplied_md5': '61858c6cc0e6a6d6663a7e4c75bbd88c',\n",
       "  'computed_md5': '61858c6cc0e6a6d6663a7e4c75bbd88c'},\n",
       " {'id': 26766812,\n",
       "  'name': 'data.zip',\n",
       "  'size': 814041183,\n",
       "  'is_link_only': False,\n",
       "  'download_url': 'https://ndownloader.figshare.com/files/26766812',\n",
       "  'supplied_md5': 'b517383f76e77bd03755a63a8ff83ee9',\n",
       "  'computed_md5': 'b517383f76e77bd03755a63a8ff83ee9'},\n",
       " {'id': 26766815,\n",
       "  'name': 'get_data.py',\n",
       "  'size': 4113,\n",
       "  'is_link_only': False,\n",
       "  'download_url': 'https://ndownloader.figshare.com/files/26766815',\n",
       "  'supplied_md5': '7829028495fd9dec9680ea013474afa6',\n",
       "  'computed_md5': '7829028495fd9dec9680ea013474afa6'}]"
      ]
     },
     "execution_count": 4,
     "metadata": {},
     "output_type": "execute_result"
    }
   ],
   "source": [
    "response = requests.request(\"GET\", url, headers=headers)\n",
    "data = json.loads(response.text) \n",
    "files = data[\"files\"]            \n",
    "files"
   ]
  },
  {
   "cell_type": "code",
   "execution_count": 5,
   "id": "7e04c895-0c23-436c-90f0-5ae64ccd2f85",
   "metadata": {},
   "outputs": [
    {
     "name": "stdout",
     "output_type": "stream",
     "text": [
      "CPU times: total: 4.11 s\n",
      "Wall time: 1min 45s\n"
     ]
    }
   ],
   "source": [
    "%%time\n",
    "files_to_dl = [\"data.zip\"]\n",
    "for file in files:\n",
    "    if file[\"name\"] in files_to_dl:\n",
    "        os.makedirs(output_directory, exist_ok=True)\n",
    "        urlretrieve(file[\"download_url\"], output_directory + file[\"name\"])"
   ]
  },
  {
   "cell_type": "code",
   "execution_count": 6,
   "id": "1e79eb05-1333-45b7-9e3a-f95da96465c1",
   "metadata": {},
   "outputs": [
    {
     "name": "stdout",
     "output_type": "stream",
     "text": [
      "CPU times: total: 19.5 s\n",
      "Wall time: 19.7 s\n"
     ]
    }
   ],
   "source": [
    "%%time\n",
    "with zipfile.ZipFile(os.path.join(output_directory, \"data.zip\"), 'r') as f:\n",
    "    f.extractall(output_directory)"
   ]
  },
  {
   "cell_type": "markdown",
   "id": "1ebc6954-170e-4bc5-97ca-e93c6ba04632",
   "metadata": {},
   "source": [
    "# Combining data CSVs"
   ]
  },
  {
   "cell_type": "code",
   "execution_count": 16,
   "id": "00e863a3-72eb-4913-90e7-bcd19e9c6042",
   "metadata": {},
   "outputs": [
    {
     "name": "stdout",
     "output_type": "stream",
     "text": [
      "[WinError 2] The system cannot find the file specified: 'rainfall/'\n",
      "C:\\Users\\robin\\Downloads\\MDS\\Block 6\\DSCI 525\\525-group-01\\notebooks\\rainfall\n",
      "CPU times: total: 31.1 s\n",
      "Wall time: 31.2 s\n"
     ]
    }
   ],
   "source": [
    "%%time\n",
    "## here we are using a normal python way for merging the data \n",
    "\n",
    "%cd rainfall/\n",
    "os.chmod(\"combined_data.csv\", 0o777)\n",
    "files = glob.glob('*.csv')\n",
    "if \"observed_daily_rainfall_SYD.csv\" in files:\n",
    "    files.remove(\"observed_daily_rainfall_SYD.csv\")\n",
    "\n",
    "if \"combined_data.csv\" in files:\n",
    "    os.remove(\"combined_data.csv\")\n",
    "    files.remove(\"combined_data.csv\")\n",
    "    \n",
    "df = pd.concat((pd.read_csv(file, index_col=0)\n",
    "                .assign(model=re.findall(\"([^_]*)\", file)[0])\n",
    "                for file in files[:3])\n",
    "              )\n",
    "#df.to_csv(\"combined_data.csv\")\n",
    "with open(\"combined_data.csv\", \"w\") as f:\n",
    "    df.to_csv(f)"
   ]
  },
  {
   "cell_type": "code",
   "execution_count": 17,
   "id": "4c29c1d5-e6dc-4def-9bd7-fda6e3320a52",
   "metadata": {},
   "outputs": [
    {
     "data": {
      "text/html": [
       "<div>\n",
       "<style scoped>\n",
       "    .dataframe tbody tr th:only-of-type {\n",
       "        vertical-align: middle;\n",
       "    }\n",
       "\n",
       "    .dataframe tbody tr th {\n",
       "        vertical-align: top;\n",
       "    }\n",
       "\n",
       "    .dataframe thead th {\n",
       "        text-align: right;\n",
       "    }\n",
       "</style>\n",
       "<table border=\"1\" class=\"dataframe\">\n",
       "  <thead>\n",
       "    <tr style=\"text-align: right;\">\n",
       "      <th></th>\n",
       "      <th>lat_min</th>\n",
       "      <th>lat_max</th>\n",
       "      <th>lon_min</th>\n",
       "      <th>lon_max</th>\n",
       "      <th>rain (mm/day)</th>\n",
       "      <th>model</th>\n",
       "    </tr>\n",
       "    <tr>\n",
       "      <th>time</th>\n",
       "      <th></th>\n",
       "      <th></th>\n",
       "      <th></th>\n",
       "      <th></th>\n",
       "      <th></th>\n",
       "      <th></th>\n",
       "    </tr>\n",
       "  </thead>\n",
       "  <tbody>\n",
       "    <tr>\n",
       "      <th>1889-01-01 12:00:00</th>\n",
       "      <td>-36.250000</td>\n",
       "      <td>-35.000000</td>\n",
       "      <td>140.6250</td>\n",
       "      <td>142.5000</td>\n",
       "      <td>3.293256e-13</td>\n",
       "      <td>ACCESS-CM2</td>\n",
       "    </tr>\n",
       "    <tr>\n",
       "      <th>1889-01-02 12:00:00</th>\n",
       "      <td>-36.250000</td>\n",
       "      <td>-35.000000</td>\n",
       "      <td>140.6250</td>\n",
       "      <td>142.5000</td>\n",
       "      <td>0.000000e+00</td>\n",
       "      <td>ACCESS-CM2</td>\n",
       "    </tr>\n",
       "    <tr>\n",
       "      <th>1889-01-03 12:00:00</th>\n",
       "      <td>-36.250000</td>\n",
       "      <td>-35.000000</td>\n",
       "      <td>140.6250</td>\n",
       "      <td>142.5000</td>\n",
       "      <td>0.000000e+00</td>\n",
       "      <td>ACCESS-CM2</td>\n",
       "    </tr>\n",
       "    <tr>\n",
       "      <th>1889-01-04 12:00:00</th>\n",
       "      <td>-36.250000</td>\n",
       "      <td>-35.000000</td>\n",
       "      <td>140.6250</td>\n",
       "      <td>142.5000</td>\n",
       "      <td>0.000000e+00</td>\n",
       "      <td>ACCESS-CM2</td>\n",
       "    </tr>\n",
       "    <tr>\n",
       "      <th>1889-01-05 12:00:00</th>\n",
       "      <td>-36.250000</td>\n",
       "      <td>-35.000000</td>\n",
       "      <td>140.6250</td>\n",
       "      <td>142.5000</td>\n",
       "      <td>1.047658e-02</td>\n",
       "      <td>ACCESS-CM2</td>\n",
       "    </tr>\n",
       "    <tr>\n",
       "      <th>...</th>\n",
       "      <td>...</td>\n",
       "      <td>...</td>\n",
       "      <td>...</td>\n",
       "      <td>...</td>\n",
       "      <td>...</td>\n",
       "      <td>...</td>\n",
       "    </tr>\n",
       "    <tr>\n",
       "      <th>2014-12-27 12:00:00</th>\n",
       "      <td>-31.709369</td>\n",
       "      <td>-29.844118</td>\n",
       "      <td>152.8125</td>\n",
       "      <td>154.6875</td>\n",
       "      <td>1.088772e-13</td>\n",
       "      <td>AWI-ESM-1-1-LR</td>\n",
       "    </tr>\n",
       "    <tr>\n",
       "      <th>2014-12-28 12:00:00</th>\n",
       "      <td>-31.709369</td>\n",
       "      <td>-29.844118</td>\n",
       "      <td>152.8125</td>\n",
       "      <td>154.6875</td>\n",
       "      <td>7.857531e-02</td>\n",
       "      <td>AWI-ESM-1-1-LR</td>\n",
       "    </tr>\n",
       "    <tr>\n",
       "      <th>2014-12-29 12:00:00</th>\n",
       "      <td>-31.709369</td>\n",
       "      <td>-29.844118</td>\n",
       "      <td>152.8125</td>\n",
       "      <td>154.6875</td>\n",
       "      <td>3.825708e+00</td>\n",
       "      <td>AWI-ESM-1-1-LR</td>\n",
       "    </tr>\n",
       "    <tr>\n",
       "      <th>2014-12-30 12:00:00</th>\n",
       "      <td>-31.709369</td>\n",
       "      <td>-29.844118</td>\n",
       "      <td>152.8125</td>\n",
       "      <td>154.6875</td>\n",
       "      <td>6.477188e+00</td>\n",
       "      <td>AWI-ESM-1-1-LR</td>\n",
       "    </tr>\n",
       "    <tr>\n",
       "      <th>2014-12-31 12:00:00</th>\n",
       "      <td>-31.709369</td>\n",
       "      <td>-29.844118</td>\n",
       "      <td>152.8125</td>\n",
       "      <td>154.6875</td>\n",
       "      <td>3.223464e+00</td>\n",
       "      <td>AWI-ESM-1-1-LR</td>\n",
       "    </tr>\n",
       "  </tbody>\n",
       "</table>\n",
       "<p>4509960 rows × 6 columns</p>\n",
       "</div>"
      ],
      "text/plain": [
       "                       lat_min    lat_max   lon_min   lon_max  rain (mm/day)  \\\n",
       "time                                                                           \n",
       "1889-01-01 12:00:00 -36.250000 -35.000000  140.6250  142.5000   3.293256e-13   \n",
       "1889-01-02 12:00:00 -36.250000 -35.000000  140.6250  142.5000   0.000000e+00   \n",
       "1889-01-03 12:00:00 -36.250000 -35.000000  140.6250  142.5000   0.000000e+00   \n",
       "1889-01-04 12:00:00 -36.250000 -35.000000  140.6250  142.5000   0.000000e+00   \n",
       "1889-01-05 12:00:00 -36.250000 -35.000000  140.6250  142.5000   1.047658e-02   \n",
       "...                        ...        ...       ...       ...            ...   \n",
       "2014-12-27 12:00:00 -31.709369 -29.844118  152.8125  154.6875   1.088772e-13   \n",
       "2014-12-28 12:00:00 -31.709369 -29.844118  152.8125  154.6875   7.857531e-02   \n",
       "2014-12-29 12:00:00 -31.709369 -29.844118  152.8125  154.6875   3.825708e+00   \n",
       "2014-12-30 12:00:00 -31.709369 -29.844118  152.8125  154.6875   6.477188e+00   \n",
       "2014-12-31 12:00:00 -31.709369 -29.844118  152.8125  154.6875   3.223464e+00   \n",
       "\n",
       "                              model  \n",
       "time                                 \n",
       "1889-01-01 12:00:00      ACCESS-CM2  \n",
       "1889-01-02 12:00:00      ACCESS-CM2  \n",
       "1889-01-03 12:00:00      ACCESS-CM2  \n",
       "1889-01-04 12:00:00      ACCESS-CM2  \n",
       "1889-01-05 12:00:00      ACCESS-CM2  \n",
       "...                             ...  \n",
       "2014-12-27 12:00:00  AWI-ESM-1-1-LR  \n",
       "2014-12-28 12:00:00  AWI-ESM-1-1-LR  \n",
       "2014-12-29 12:00:00  AWI-ESM-1-1-LR  \n",
       "2014-12-30 12:00:00  AWI-ESM-1-1-LR  \n",
       "2014-12-31 12:00:00  AWI-ESM-1-1-LR  \n",
       "\n",
       "[4509960 rows x 6 columns]"
      ]
     },
     "execution_count": 17,
     "metadata": {},
     "output_type": "execute_result"
    }
   ],
   "source": [
    "df"
   ]
  },
  {
   "cell_type": "code",
   "execution_count": 4,
   "id": "59330af3-0cbd-49c2-8d38-696946c321c4",
   "metadata": {
    "tags": []
   },
   "outputs": [
    {
     "data": {
      "text/plain": [
       "(array(['ACCESS-CM2', 'ACCESS-ESM1-5', 'AWI-ESM-1-1-LR'], dtype=object), 3)"
      ]
     },
     "execution_count": 4,
     "metadata": {},
     "output_type": "execute_result"
    }
   ],
   "source": [
    "df.model.unique(), df.model.nunique()"
   ]
  },
  {
   "cell_type": "markdown",
   "id": "c3ea145e-7421-41dd-ae2d-740120f6b4cb",
   "metadata": {},
   "source": [
    "# Load the combined CSV to memory and perform a simple EDA"
   ]
  },
  {
   "cell_type": "markdown",
   "id": "516dbf53-329b-4e50-b97c-0d66f5fa056c",
   "metadata": {},
   "source": [
    "## Changing `dtype` of our data. Specifically, I will only test the target column`rain` and the index column `time`, while keeping all the other columns. "
   ]
  },
  {
   "cell_type": "code",
   "execution_count": 6,
   "id": "debc5bca-d586-4e26-b5cd-4555fc5fbb64",
   "metadata": {},
   "outputs": [
    {
     "data": {
      "text/plain": [
       "(dtype('O'), dtype('float64'))"
      ]
     },
     "execution_count": 6,
     "metadata": {},
     "output_type": "execute_result"
    }
   ],
   "source": [
    "df.index.dtype, df['rain (mm/day)'].dtype"
   ]
  },
  {
   "cell_type": "code",
   "execution_count": 7,
   "id": "86b0a268-8144-4fec-8946-9ed18f50b79a",
   "metadata": {},
   "outputs": [
    {
     "name": "stdout",
     "output_type": "stream",
     "text": [
      "Memory usage with float64 rain and object type time: 252.56 MB\n"
     ]
    }
   ],
   "source": [
    "print(f\"Memory usage with float64 rain and object type time: {df.memory_usage().sum() / 1e6:.2f} MB\")"
   ]
  },
  {
   "cell_type": "code",
   "execution_count": 8,
   "id": "152aea92-fe80-4a0d-932d-1d60f60fd39e",
   "metadata": {},
   "outputs": [],
   "source": [
    "df.index = pd.to_datetime(df.index)\n",
    "df[\"rain (mm/day)\"] = df['rain (mm/day)'].astype('float32')"
   ]
  },
  {
   "cell_type": "code",
   "execution_count": 9,
   "id": "6fb6ec40-ce1f-4225-9aa7-08f683155e9d",
   "metadata": {},
   "outputs": [
    {
     "data": {
      "text/plain": [
       "(dtype('<M8[ns]'), dtype('float32'))"
      ]
     },
     "execution_count": 9,
     "metadata": {},
     "output_type": "execute_result"
    }
   ],
   "source": [
    "df.index.dtype, df[\"rain (mm/day)\"].dtype"
   ]
  },
  {
   "cell_type": "code",
   "execution_count": 10,
   "id": "7ef9c831-21a7-4913-8cd3-333306221c1c",
   "metadata": {},
   "outputs": [
    {
     "data": {
      "text/plain": [
       "True"
      ]
     },
     "execution_count": 10,
     "metadata": {},
     "output_type": "execute_result"
    }
   ],
   "source": [
    "import numpy as np\n",
    "np.dtype('datetime64[ns]') == np.dtype('<M8[ns]')"
   ]
  },
  {
   "cell_type": "code",
   "execution_count": 11,
   "id": "82373e52-5d50-45cd-8d70-59b639ab1477",
   "metadata": {},
   "outputs": [
    {
     "name": "stdout",
     "output_type": "stream",
     "text": [
      "Memory usage with float32 rain and datetime time/index column: 234.52 MB\n"
     ]
    }
   ],
   "source": [
    "print(f\"Memory usage with float32 rain and datetime time/index column: {df.memory_usage().sum() / 1e6:.2f} MB\")"
   ]
  },
  {
   "cell_type": "markdown",
   "id": "a1a7e931-dd71-40f6-9570-54a43cf18ae8",
   "metadata": {},
   "source": [
    "Although this might seem insignificant, when we only use the needed columns and apply this datatype, we should see better results. Below, I'll select only the required columns and then do this process again to check."
   ]
  },
  {
   "cell_type": "markdown",
   "id": "0391e4df-9e3b-4b0a-9a5f-0d26a437b5ec",
   "metadata": {},
   "source": [
    "## Load just columns that we want"
   ]
  },
  {
   "cell_type": "code",
   "execution_count": 15,
   "id": "954738bf-e4ac-4efc-88dd-515bf9eeae0d",
   "metadata": {},
   "outputs": [
    {
     "data": {
      "text/html": [
       "<div>\n",
       "<style scoped>\n",
       "    .dataframe tbody tr th:only-of-type {\n",
       "        vertical-align: middle;\n",
       "    }\n",
       "\n",
       "    .dataframe tbody tr th {\n",
       "        vertical-align: top;\n",
       "    }\n",
       "\n",
       "    .dataframe thead th {\n",
       "        text-align: right;\n",
       "    }\n",
       "</style>\n",
       "<table border=\"1\" class=\"dataframe\">\n",
       "  <thead>\n",
       "    <tr style=\"text-align: right;\">\n",
       "      <th></th>\n",
       "      <th>time</th>\n",
       "      <th>lat_min</th>\n",
       "      <th>lat_max</th>\n",
       "      <th>lon_min</th>\n",
       "      <th>lon_max</th>\n",
       "      <th>rain (mm/day)</th>\n",
       "      <th>model</th>\n",
       "    </tr>\n",
       "  </thead>\n",
       "  <tbody>\n",
       "    <tr>\n",
       "      <th>0</th>\n",
       "      <td>1889-01-01 12:00:00</td>\n",
       "      <td>-36.250000</td>\n",
       "      <td>-35.000000</td>\n",
       "      <td>140.6250</td>\n",
       "      <td>142.5000</td>\n",
       "      <td>3.293256e-13</td>\n",
       "      <td>ACCESS-CM2</td>\n",
       "    </tr>\n",
       "    <tr>\n",
       "      <th>1</th>\n",
       "      <td>1889-01-02 12:00:00</td>\n",
       "      <td>-36.250000</td>\n",
       "      <td>-35.000000</td>\n",
       "      <td>140.6250</td>\n",
       "      <td>142.5000</td>\n",
       "      <td>0.000000e+00</td>\n",
       "      <td>ACCESS-CM2</td>\n",
       "    </tr>\n",
       "    <tr>\n",
       "      <th>2</th>\n",
       "      <td>1889-01-03 12:00:00</td>\n",
       "      <td>-36.250000</td>\n",
       "      <td>-35.000000</td>\n",
       "      <td>140.6250</td>\n",
       "      <td>142.5000</td>\n",
       "      <td>0.000000e+00</td>\n",
       "      <td>ACCESS-CM2</td>\n",
       "    </tr>\n",
       "    <tr>\n",
       "      <th>3</th>\n",
       "      <td>1889-01-04 12:00:00</td>\n",
       "      <td>-36.250000</td>\n",
       "      <td>-35.000000</td>\n",
       "      <td>140.6250</td>\n",
       "      <td>142.5000</td>\n",
       "      <td>0.000000e+00</td>\n",
       "      <td>ACCESS-CM2</td>\n",
       "    </tr>\n",
       "    <tr>\n",
       "      <th>4</th>\n",
       "      <td>1889-01-05 12:00:00</td>\n",
       "      <td>-36.250000</td>\n",
       "      <td>-35.000000</td>\n",
       "      <td>140.6250</td>\n",
       "      <td>142.5000</td>\n",
       "      <td>1.047658e-02</td>\n",
       "      <td>ACCESS-CM2</td>\n",
       "    </tr>\n",
       "    <tr>\n",
       "      <th>...</th>\n",
       "      <td>...</td>\n",
       "      <td>...</td>\n",
       "      <td>...</td>\n",
       "      <td>...</td>\n",
       "      <td>...</td>\n",
       "      <td>...</td>\n",
       "      <td>...</td>\n",
       "    </tr>\n",
       "    <tr>\n",
       "      <th>4509955</th>\n",
       "      <td>2014-12-27 12:00:00</td>\n",
       "      <td>-31.709369</td>\n",
       "      <td>-29.844118</td>\n",
       "      <td>152.8125</td>\n",
       "      <td>154.6875</td>\n",
       "      <td>1.088772e-13</td>\n",
       "      <td>AWI-ESM-1-1-LR</td>\n",
       "    </tr>\n",
       "    <tr>\n",
       "      <th>4509956</th>\n",
       "      <td>2014-12-28 12:00:00</td>\n",
       "      <td>-31.709369</td>\n",
       "      <td>-29.844118</td>\n",
       "      <td>152.8125</td>\n",
       "      <td>154.6875</td>\n",
       "      <td>7.857531e-02</td>\n",
       "      <td>AWI-ESM-1-1-LR</td>\n",
       "    </tr>\n",
       "    <tr>\n",
       "      <th>4509957</th>\n",
       "      <td>2014-12-29 12:00:00</td>\n",
       "      <td>-31.709369</td>\n",
       "      <td>-29.844118</td>\n",
       "      <td>152.8125</td>\n",
       "      <td>154.6875</td>\n",
       "      <td>3.825708e+00</td>\n",
       "      <td>AWI-ESM-1-1-LR</td>\n",
       "    </tr>\n",
       "    <tr>\n",
       "      <th>4509958</th>\n",
       "      <td>2014-12-30 12:00:00</td>\n",
       "      <td>-31.709369</td>\n",
       "      <td>-29.844118</td>\n",
       "      <td>152.8125</td>\n",
       "      <td>154.6875</td>\n",
       "      <td>6.477188e+00</td>\n",
       "      <td>AWI-ESM-1-1-LR</td>\n",
       "    </tr>\n",
       "    <tr>\n",
       "      <th>4509959</th>\n",
       "      <td>2014-12-31 12:00:00</td>\n",
       "      <td>-31.709369</td>\n",
       "      <td>-29.844118</td>\n",
       "      <td>152.8125</td>\n",
       "      <td>154.6875</td>\n",
       "      <td>3.223464e+00</td>\n",
       "      <td>AWI-ESM-1-1-LR</td>\n",
       "    </tr>\n",
       "  </tbody>\n",
       "</table>\n",
       "<p>4509960 rows × 7 columns</p>\n",
       "</div>"
      ],
      "text/plain": [
       "                        time    lat_min    lat_max   lon_min   lon_max  \\\n",
       "0        1889-01-01 12:00:00 -36.250000 -35.000000  140.6250  142.5000   \n",
       "1        1889-01-02 12:00:00 -36.250000 -35.000000  140.6250  142.5000   \n",
       "2        1889-01-03 12:00:00 -36.250000 -35.000000  140.6250  142.5000   \n",
       "3        1889-01-04 12:00:00 -36.250000 -35.000000  140.6250  142.5000   \n",
       "4        1889-01-05 12:00:00 -36.250000 -35.000000  140.6250  142.5000   \n",
       "...                      ...        ...        ...       ...       ...   \n",
       "4509955  2014-12-27 12:00:00 -31.709369 -29.844118  152.8125  154.6875   \n",
       "4509956  2014-12-28 12:00:00 -31.709369 -29.844118  152.8125  154.6875   \n",
       "4509957  2014-12-29 12:00:00 -31.709369 -29.844118  152.8125  154.6875   \n",
       "4509958  2014-12-30 12:00:00 -31.709369 -29.844118  152.8125  154.6875   \n",
       "4509959  2014-12-31 12:00:00 -31.709369 -29.844118  152.8125  154.6875   \n",
       "\n",
       "         rain (mm/day)           model  \n",
       "0         3.293256e-13      ACCESS-CM2  \n",
       "1         0.000000e+00      ACCESS-CM2  \n",
       "2         0.000000e+00      ACCESS-CM2  \n",
       "3         0.000000e+00      ACCESS-CM2  \n",
       "4         1.047658e-02      ACCESS-CM2  \n",
       "...                ...             ...  \n",
       "4509955   1.088772e-13  AWI-ESM-1-1-LR  \n",
       "4509956   7.857531e-02  AWI-ESM-1-1-LR  \n",
       "4509957   3.825708e+00  AWI-ESM-1-1-LR  \n",
       "4509958   6.477188e+00  AWI-ESM-1-1-LR  \n",
       "4509959   3.223464e+00  AWI-ESM-1-1-LR  \n",
       "\n",
       "[4509960 rows x 7 columns]"
      ]
     },
     "execution_count": 15,
     "metadata": {},
     "output_type": "execute_result"
    }
   ],
   "source": [
    "pd.read_csv(\"combined_data.csv\")"
   ]
  },
  {
   "cell_type": "code",
   "execution_count": 18,
   "id": "b78b9bed-9f40-4ca8-a892-149741e8830e",
   "metadata": {},
   "outputs": [
    {
     "name": "stdout",
     "output_type": "stream",
     "text": [
      "CPU times: total: 3.89 s\n",
      "Wall time: 3.89 s\n"
     ]
    },
    {
     "data": {
      "text/html": [
       "<div>\n",
       "<style scoped>\n",
       "    .dataframe tbody tr th:only-of-type {\n",
       "        vertical-align: middle;\n",
       "    }\n",
       "\n",
       "    .dataframe tbody tr th {\n",
       "        vertical-align: top;\n",
       "    }\n",
       "\n",
       "    .dataframe thead th {\n",
       "        text-align: right;\n",
       "    }\n",
       "</style>\n",
       "<table border=\"1\" class=\"dataframe\">\n",
       "  <thead>\n",
       "    <tr style=\"text-align: right;\">\n",
       "      <th></th>\n",
       "      <th>time</th>\n",
       "      <th>rain (mm/day)</th>\n",
       "      <th>model</th>\n",
       "    </tr>\n",
       "  </thead>\n",
       "  <tbody>\n",
       "    <tr>\n",
       "      <th>0</th>\n",
       "      <td>1889-01-01 12:00:00</td>\n",
       "      <td>3.293256e-13</td>\n",
       "      <td>ACCESS-CM2</td>\n",
       "    </tr>\n",
       "    <tr>\n",
       "      <th>1</th>\n",
       "      <td>1889-01-02 12:00:00</td>\n",
       "      <td>0.000000e+00</td>\n",
       "      <td>ACCESS-CM2</td>\n",
       "    </tr>\n",
       "    <tr>\n",
       "      <th>2</th>\n",
       "      <td>1889-01-03 12:00:00</td>\n",
       "      <td>0.000000e+00</td>\n",
       "      <td>ACCESS-CM2</td>\n",
       "    </tr>\n",
       "    <tr>\n",
       "      <th>3</th>\n",
       "      <td>1889-01-04 12:00:00</td>\n",
       "      <td>0.000000e+00</td>\n",
       "      <td>ACCESS-CM2</td>\n",
       "    </tr>\n",
       "    <tr>\n",
       "      <th>4</th>\n",
       "      <td>1889-01-05 12:00:00</td>\n",
       "      <td>1.047658e-02</td>\n",
       "      <td>ACCESS-CM2</td>\n",
       "    </tr>\n",
       "    <tr>\n",
       "      <th>...</th>\n",
       "      <td>...</td>\n",
       "      <td>...</td>\n",
       "      <td>...</td>\n",
       "    </tr>\n",
       "    <tr>\n",
       "      <th>4509955</th>\n",
       "      <td>2014-12-27 12:00:00</td>\n",
       "      <td>1.088772e-13</td>\n",
       "      <td>AWI-ESM-1-1-LR</td>\n",
       "    </tr>\n",
       "    <tr>\n",
       "      <th>4509956</th>\n",
       "      <td>2014-12-28 12:00:00</td>\n",
       "      <td>7.857531e-02</td>\n",
       "      <td>AWI-ESM-1-1-LR</td>\n",
       "    </tr>\n",
       "    <tr>\n",
       "      <th>4509957</th>\n",
       "      <td>2014-12-29 12:00:00</td>\n",
       "      <td>3.825708e+00</td>\n",
       "      <td>AWI-ESM-1-1-LR</td>\n",
       "    </tr>\n",
       "    <tr>\n",
       "      <th>4509958</th>\n",
       "      <td>2014-12-30 12:00:00</td>\n",
       "      <td>6.477188e+00</td>\n",
       "      <td>AWI-ESM-1-1-LR</td>\n",
       "    </tr>\n",
       "    <tr>\n",
       "      <th>4509959</th>\n",
       "      <td>2014-12-31 12:00:00</td>\n",
       "      <td>3.223464e+00</td>\n",
       "      <td>AWI-ESM-1-1-LR</td>\n",
       "    </tr>\n",
       "  </tbody>\n",
       "</table>\n",
       "<p>4509960 rows × 3 columns</p>\n",
       "</div>"
      ],
      "text/plain": [
       "                        time  rain (mm/day)           model\n",
       "0        1889-01-01 12:00:00   3.293256e-13      ACCESS-CM2\n",
       "1        1889-01-02 12:00:00   0.000000e+00      ACCESS-CM2\n",
       "2        1889-01-03 12:00:00   0.000000e+00      ACCESS-CM2\n",
       "3        1889-01-04 12:00:00   0.000000e+00      ACCESS-CM2\n",
       "4        1889-01-05 12:00:00   1.047658e-02      ACCESS-CM2\n",
       "...                      ...            ...             ...\n",
       "4509955  2014-12-27 12:00:00   1.088772e-13  AWI-ESM-1-1-LR\n",
       "4509956  2014-12-28 12:00:00   7.857531e-02  AWI-ESM-1-1-LR\n",
       "4509957  2014-12-29 12:00:00   3.825708e+00  AWI-ESM-1-1-LR\n",
       "4509958  2014-12-30 12:00:00   6.477188e+00  AWI-ESM-1-1-LR\n",
       "4509959  2014-12-31 12:00:00   3.223464e+00  AWI-ESM-1-1-LR\n",
       "\n",
       "[4509960 rows x 3 columns]"
      ]
     },
     "execution_count": 18,
     "metadata": {},
     "output_type": "execute_result"
    }
   ],
   "source": [
    "%%time\n",
    "df2 = pd.read_csv(\"combined_data.csv\", usecols=['time', 'rain (mm/day)', 'model'])\n",
    "df2\n",
    "#print(df[\"model\"].value_counts())"
   ]
  },
  {
   "cell_type": "code",
   "execution_count": 20,
   "id": "58a3d2e9-02f0-4590-a3cb-bccd640ea320",
   "metadata": {},
   "outputs": [
    {
     "name": "stdout",
     "output_type": "stream",
     "text": [
      "Memory usage with selected columns: 108.24 MB\n"
     ]
    }
   ],
   "source": [
    "print(f\"Memory usage with selected columns: {df2.memory_usage().sum() / 1e6:.2f} MB\")"
   ]
  },
  {
   "cell_type": "code",
   "execution_count": 24,
   "id": "8428b36c-96a8-4903-bf65-6db59871cbac",
   "metadata": {},
   "outputs": [
    {
     "data": {
      "text/html": [
       "<div>\n",
       "<style scoped>\n",
       "    .dataframe tbody tr th:only-of-type {\n",
       "        vertical-align: middle;\n",
       "    }\n",
       "\n",
       "    .dataframe tbody tr th {\n",
       "        vertical-align: top;\n",
       "    }\n",
       "\n",
       "    .dataframe thead th {\n",
       "        text-align: right;\n",
       "    }\n",
       "</style>\n",
       "<table border=\"1\" class=\"dataframe\">\n",
       "  <thead>\n",
       "    <tr style=\"text-align: right;\">\n",
       "      <th></th>\n",
       "      <th>time</th>\n",
       "      <th>rain (mm/day)</th>\n",
       "      <th>model</th>\n",
       "    </tr>\n",
       "  </thead>\n",
       "  <tbody>\n",
       "    <tr>\n",
       "      <th>0</th>\n",
       "      <td>1889-01-01 12:00:00</td>\n",
       "      <td>3.293256e-13</td>\n",
       "      <td>ACCESS-CM2</td>\n",
       "    </tr>\n",
       "    <tr>\n",
       "      <th>1</th>\n",
       "      <td>1889-01-02 12:00:00</td>\n",
       "      <td>0.000000e+00</td>\n",
       "      <td>ACCESS-CM2</td>\n",
       "    </tr>\n",
       "    <tr>\n",
       "      <th>2</th>\n",
       "      <td>1889-01-03 12:00:00</td>\n",
       "      <td>0.000000e+00</td>\n",
       "      <td>ACCESS-CM2</td>\n",
       "    </tr>\n",
       "    <tr>\n",
       "      <th>3</th>\n",
       "      <td>1889-01-04 12:00:00</td>\n",
       "      <td>0.000000e+00</td>\n",
       "      <td>ACCESS-CM2</td>\n",
       "    </tr>\n",
       "    <tr>\n",
       "      <th>4</th>\n",
       "      <td>1889-01-05 12:00:00</td>\n",
       "      <td>1.047658e-02</td>\n",
       "      <td>ACCESS-CM2</td>\n",
       "    </tr>\n",
       "    <tr>\n",
       "      <th>...</th>\n",
       "      <td>...</td>\n",
       "      <td>...</td>\n",
       "      <td>...</td>\n",
       "    </tr>\n",
       "    <tr>\n",
       "      <th>4509955</th>\n",
       "      <td>2014-12-27 12:00:00</td>\n",
       "      <td>1.088772e-13</td>\n",
       "      <td>AWI-ESM-1-1-LR</td>\n",
       "    </tr>\n",
       "    <tr>\n",
       "      <th>4509956</th>\n",
       "      <td>2014-12-28 12:00:00</td>\n",
       "      <td>7.857531e-02</td>\n",
       "      <td>AWI-ESM-1-1-LR</td>\n",
       "    </tr>\n",
       "    <tr>\n",
       "      <th>4509957</th>\n",
       "      <td>2014-12-29 12:00:00</td>\n",
       "      <td>3.825708e+00</td>\n",
       "      <td>AWI-ESM-1-1-LR</td>\n",
       "    </tr>\n",
       "    <tr>\n",
       "      <th>4509958</th>\n",
       "      <td>2014-12-30 12:00:00</td>\n",
       "      <td>6.477188e+00</td>\n",
       "      <td>AWI-ESM-1-1-LR</td>\n",
       "    </tr>\n",
       "    <tr>\n",
       "      <th>4509959</th>\n",
       "      <td>2014-12-31 12:00:00</td>\n",
       "      <td>3.223464e+00</td>\n",
       "      <td>AWI-ESM-1-1-LR</td>\n",
       "    </tr>\n",
       "  </tbody>\n",
       "</table>\n",
       "<p>4509960 rows × 3 columns</p>\n",
       "</div>"
      ],
      "text/plain": [
       "                        time  rain (mm/day)           model\n",
       "0        1889-01-01 12:00:00   3.293256e-13      ACCESS-CM2\n",
       "1        1889-01-02 12:00:00   0.000000e+00      ACCESS-CM2\n",
       "2        1889-01-03 12:00:00   0.000000e+00      ACCESS-CM2\n",
       "3        1889-01-04 12:00:00   0.000000e+00      ACCESS-CM2\n",
       "4        1889-01-05 12:00:00   1.047658e-02      ACCESS-CM2\n",
       "...                      ...            ...             ...\n",
       "4509955  2014-12-27 12:00:00   1.088772e-13  AWI-ESM-1-1-LR\n",
       "4509956  2014-12-28 12:00:00   7.857531e-02  AWI-ESM-1-1-LR\n",
       "4509957  2014-12-29 12:00:00   3.825708e+00  AWI-ESM-1-1-LR\n",
       "4509958  2014-12-30 12:00:00   6.477188e+00  AWI-ESM-1-1-LR\n",
       "4509959  2014-12-31 12:00:00   3.223464e+00  AWI-ESM-1-1-LR\n",
       "\n",
       "[4509960 rows x 3 columns]"
      ]
     },
     "execution_count": 24,
     "metadata": {},
     "output_type": "execute_result"
    }
   ],
   "source": [
    "df2"
   ]
  },
  {
   "cell_type": "markdown",
   "id": "3c81d578-06b3-49fb-b62f-9d743dafea6a",
   "metadata": {},
   "source": [
    "Now, I'll convert the datatypes again as done before and check how much it makes a difference."
   ]
  },
  {
   "cell_type": "code",
   "execution_count": 25,
   "id": "c27ce844-578e-4b2d-add2-86eff6b943c5",
   "metadata": {},
   "outputs": [],
   "source": [
    "df2.time = pd.to_datetime(df2.time)\n",
    "df2[\"rain (mm/day)\"] = df2['rain (mm/day)'].astype('float32')"
   ]
  },
  {
   "cell_type": "code",
   "execution_count": 26,
   "id": "22026933-534d-468b-a117-dd9786564871",
   "metadata": {},
   "outputs": [
    {
     "data": {
      "text/plain": [
       "(dtype('<M8[ns]'), dtype('float32'))"
      ]
     },
     "execution_count": 26,
     "metadata": {},
     "output_type": "execute_result"
    }
   ],
   "source": [
    "df2.time.dtype, df2[\"rain (mm/day)\"].dtype"
   ]
  },
  {
   "cell_type": "code",
   "execution_count": 27,
   "id": "32047893-0b4f-4401-af75-f34996e1bed2",
   "metadata": {},
   "outputs": [
    {
     "name": "stdout",
     "output_type": "stream",
     "text": [
      "Memory usage with selected columns and datatypes: 90.20 MB\n"
     ]
    }
   ],
   "source": [
    "print(f\"Memory usage with selected columns and datatypes: {df2.memory_usage().sum() / 1e6:.2f} MB\")"
   ]
  },
  {
   "cell_type": "markdown",
   "id": "afab00ce-661c-4e6b-bf9a-ee2ad476ed2a",
   "metadata": {},
   "source": [
    "As we can see, the memory usage change is significant compared to the original. "
   ]
  },
  {
   "cell_type": "markdown",
   "id": "4b07d8a7-a02f-4cc7-a317-df1afa9880c5",
   "metadata": {},
   "source": [
    "## Loading in chunks"
   ]
  },
  {
   "cell_type": "code",
   "execution_count": 28,
   "id": "2a66e5e7-e5c9-4e52-adc0-848802887dc2",
   "metadata": {},
   "outputs": [
    {
     "name": "stdout",
     "output_type": "stream",
     "text": [
      "ACCESS-CM2        1932840\n",
      "ACCESS-ESM1-5     1610700\n",
      "AWI-ESM-1-1-LR     966420\n",
      "dtype: int32\n"
     ]
    }
   ],
   "source": [
    "counts = pd.Series(dtype=int)\n",
    "for chunk in pd.read_csv(\"combined_data.csv\", chunksize=10_000_000):\n",
    "    counts = counts.add(chunk[\"model\"].value_counts(), fill_value=0)\n",
    "print(counts.astype(int))"
   ]
  },
  {
   "cell_type": "code",
   "execution_count": null,
   "id": "f22d0b82-a062-4c1a-8898-36be624c8776",
   "metadata": {},
   "outputs": [],
   "source": []
  }
 ],
 "metadata": {
  "kernelspec": {
   "display_name": "Python [conda env:525_2023]",
   "language": "python",
   "name": "conda-env-525_2023-py"
  },
  "language_info": {
   "codemirror_mode": {
    "name": "ipython",
    "version": 3
   },
   "file_extension": ".py",
   "mimetype": "text/x-python",
   "name": "python",
   "nbconvert_exporter": "python",
   "pygments_lexer": "ipython3",
   "version": "3.10.10"
  }
 },
 "nbformat": 4,
 "nbformat_minor": 5
}
