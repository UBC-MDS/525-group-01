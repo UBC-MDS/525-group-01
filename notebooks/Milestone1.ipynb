{
 "cells": [
  {
   "cell_type": "code",
   "execution_count": 2,
   "id": "a9e3e340-c0ec-4747-bd7b-b5a9ed7dfb78",
   "metadata": {},
   "outputs": [],
   "source": [
    "import re\n",
    "import os\n",
    "import glob\n",
    "import zipfile\n",
    "import requests\n",
    "from urllib.request import urlretrieve\n",
    "import json\n",
    "import pandas as pd"
   ]
  },
  {
   "cell_type": "markdown",
   "id": "af51c254-82eb-49a3-b81c-b2afce9ebd52",
   "metadata": {},
   "source": [
    "# Downloading the data"
   ]
  },
  {
   "cell_type": "code",
   "execution_count": 2,
   "id": "4deaf25d-0a69-4245-b86c-5d98addb7b60",
   "metadata": {},
   "outputs": [
    {
     "data": {
      "text/plain": [
       "'C:\\\\Users\\\\robin\\\\Downloads\\\\MDS\\\\Block 6\\\\DSCI 525\\\\525-group-01\\\\notebooks'"
      ]
     },
     "execution_count": 2,
     "metadata": {},
     "output_type": "execute_result"
    }
   ],
   "source": [
    "%pwd\n",
    "## Change it to the location that you want to download your files to."
   ]
  },
  {
   "cell_type": "code",
   "execution_count": 3,
   "id": "e20201c6-a5de-4141-a6c9-3b788a8db401",
   "metadata": {},
   "outputs": [],
   "source": [
    "article_id = 14096681  # this is the unique identifier of the article on figshare\n",
    "url = f\"https://api.figshare.com/v2/articles/{article_id}\"\n",
    "headers = {\"Content-Type\": \"application/json\"}\n",
    "output_directory = \"rainfall/\""
   ]
  },
  {
   "cell_type": "code",
   "execution_count": 4,
   "id": "29304f02-07be-4bf8-8d95-e4a49521da71",
   "metadata": {
    "tags": []
   },
   "outputs": [
    {
     "data": {
      "text/plain": [
       "[{'id': 26579150,\n",
       "  'name': 'daily_rainfall_2014.png',\n",
       "  'size': 58863,\n",
       "  'is_link_only': False,\n",
       "  'download_url': 'https://ndownloader.figshare.com/files/26579150',\n",
       "  'supplied_md5': 'fd32a2ffde300a31f8d63b1825d47e5e',\n",
       "  'computed_md5': 'fd32a2ffde300a31f8d63b1825d47e5e'},\n",
       " {'id': 26579171,\n",
       "  'name': 'environment.yml',\n",
       "  'size': 192,\n",
       "  'is_link_only': False,\n",
       "  'download_url': 'https://ndownloader.figshare.com/files/26579171',\n",
       "  'supplied_md5': '060b2020017eed93a1ee7dd8c65b2f34',\n",
       "  'computed_md5': '060b2020017eed93a1ee7dd8c65b2f34'},\n",
       " {'id': 26586554,\n",
       "  'name': 'README.md',\n",
       "  'size': 5422,\n",
       "  'is_link_only': False,\n",
       "  'download_url': 'https://ndownloader.figshare.com/files/26586554',\n",
       "  'supplied_md5': '61858c6cc0e6a6d6663a7e4c75bbd88c',\n",
       "  'computed_md5': '61858c6cc0e6a6d6663a7e4c75bbd88c'},\n",
       " {'id': 26766812,\n",
       "  'name': 'data.zip',\n",
       "  'size': 814041183,\n",
       "  'is_link_only': False,\n",
       "  'download_url': 'https://ndownloader.figshare.com/files/26766812',\n",
       "  'supplied_md5': 'b517383f76e77bd03755a63a8ff83ee9',\n",
       "  'computed_md5': 'b517383f76e77bd03755a63a8ff83ee9'},\n",
       " {'id': 26766815,\n",
       "  'name': 'get_data.py',\n",
       "  'size': 4113,\n",
       "  'is_link_only': False,\n",
       "  'download_url': 'https://ndownloader.figshare.com/files/26766815',\n",
       "  'supplied_md5': '7829028495fd9dec9680ea013474afa6',\n",
       "  'computed_md5': '7829028495fd9dec9680ea013474afa6'}]"
      ]
     },
     "execution_count": 4,
     "metadata": {},
     "output_type": "execute_result"
    }
   ],
   "source": [
    "response = requests.request(\"GET\", url, headers=headers)\n",
    "data = json.loads(response.text) \n",
    "files = data[\"files\"]            \n",
    "files"
   ]
  },
  {
   "cell_type": "code",
   "execution_count": null,
   "id": "7e04c895-0c23-436c-90f0-5ae64ccd2f85",
   "metadata": {},
   "outputs": [],
   "source": [
    "%%time\n",
    "files_to_dl = [\"data.zip\"]\n",
    "for file in files:\n",
    "    if file[\"name\"] in files_to_dl:\n",
    "        os.makedirs(output_directory, exist_ok=True)\n",
    "        urlretrieve(file[\"download_url\"], output_directory + file[\"name\"])"
   ]
  },
  {
   "cell_type": "code",
   "execution_count": null,
   "id": "1e79eb05-1333-45b7-9e3a-f95da96465c1",
   "metadata": {},
   "outputs": [],
   "source": [
    "%%time\n",
    "with zipfile.ZipFile(os.path.join(output_directory, \"data.zip\"), 'r') as f:\n",
    "    f.extractall(output_directory)"
   ]
  },
  {
   "cell_type": "markdown",
   "id": "1ebc6954-170e-4bc5-97ca-e93c6ba04632",
   "metadata": {},
   "source": [
    "# Combining data CSVs"
   ]
  },
  {
   "cell_type": "code",
   "execution_count": 5,
   "id": "d0cfcb57-90ef-4406-9468-c829ee562b11",
   "metadata": {},
   "outputs": [
    {
     "name": "stdout",
     "output_type": "stream",
     "text": [
      "C:\\Users\\robin\\Downloads\\MDS\\Block 6\\DSCI 525\\525-group-01\\notebooks\\rainfall\n"
     ]
    }
   ],
   "source": [
    "%cd rainfall/"
   ]
  },
  {
   "cell_type": "code",
   "execution_count": 7,
   "id": "00e863a3-72eb-4913-90e7-bcd19e9c6042",
   "metadata": {},
   "outputs": [
    {
     "name": "stdout",
     "output_type": "stream",
     "text": [
      "CPU times: total: 9min 43s\n",
      "Wall time: 9min 44s\n"
     ]
    }
   ],
   "source": [
    "%%time\n",
    "## here we are using a normal python way for merging the data \n",
    "\n",
    "files = glob.glob('*.csv')\n",
    "if \"observed_daily_rainfall_SYD.csv\" in files:\n",
    "    files.remove(\"observed_daily_rainfall_SYD.csv\")\n",
    "\n",
    "if \"combined_data.csv\" in files:\n",
    "    os.remove(\"combined_data.csv\")\n",
    "    files.remove(\"combined_data.csv\")\n",
    "    \n",
    "df = pd.concat((pd.read_csv(file, index_col=0)\n",
    "                .assign(model=re.findall(\"([^_]*)\", file)[0])\n",
    "                for file in files)\n",
    "              )\n",
    "#df.to_csv(\"combined_data.csv\")\n",
    "with open(\"combined_data.csv\", \"w\") as f:\n",
    "    df.to_csv(f)"
   ]
  },
  {
   "cell_type": "code",
   "execution_count": 8,
   "id": "59330af3-0cbd-49c2-8d38-696946c321c4",
   "metadata": {
    "tags": []
   },
   "outputs": [
    {
     "data": {
      "text/plain": [
       "(array(['ACCESS-CM2', 'ACCESS-ESM1-5', 'AWI-ESM-1-1-LR', 'BCC-CSM2-MR',\n",
       "        'BCC-ESM1', 'CanESM5', 'CMCC-CM2-HR4', 'CMCC-CM2-SR5', 'CMCC-ESM2',\n",
       "        'EC-Earth3-Veg-LR', 'FGOALS-f3-L', 'FGOALS-g3', 'GFDL-CM4',\n",
       "        'GFDL-ESM4', 'INM-CM4-8', 'INM-CM5-0', 'KIOST-ESM', 'MIROC6',\n",
       "        'MPI-ESM-1-2-HAM', 'MPI-ESM1-2-HR', 'MPI-ESM1-2-LR', 'MRI-ESM2-0',\n",
       "        'NESM3', 'NorESM2-LM', 'NorESM2-MM', 'SAM0-UNICON', 'TaiESM1'],\n",
       "       dtype=object),\n",
       " 27)"
      ]
     },
     "execution_count": 8,
     "metadata": {},
     "output_type": "execute_result"
    }
   ],
   "source": [
    "df.model.unique(), df.model.nunique()"
   ]
  },
  {
   "cell_type": "markdown",
   "id": "c3ea145e-7421-41dd-ae2d-740120f6b4cb",
   "metadata": {},
   "source": [
    "# Load the combined CSV to memory and perform a simple EDA"
   ]
  },
  {
   "cell_type": "markdown",
   "id": "516dbf53-329b-4e50-b97c-0d66f5fa056c",
   "metadata": {},
   "source": [
    "## Changing `dtype` of our data. Specifically, I will only test the target column`rain` and the index column `time`, while keeping all the other columns. "
   ]
  },
  {
   "cell_type": "code",
   "execution_count": 9,
   "id": "debc5bca-d586-4e26-b5cd-4555fc5fbb64",
   "metadata": {},
   "outputs": [
    {
     "data": {
      "text/plain": [
       "(dtype('O'), dtype('float64'))"
      ]
     },
     "execution_count": 9,
     "metadata": {},
     "output_type": "execute_result"
    }
   ],
   "source": [
    "df.index.dtype, df['rain (mm/day)'].dtype"
   ]
  },
  {
   "cell_type": "code",
   "execution_count": 10,
   "id": "86b0a268-8144-4fec-8946-9ed18f50b79a",
   "metadata": {},
   "outputs": [
    {
     "name": "stdout",
     "output_type": "stream",
     "text": [
      "Memory usage with float64 rain and object type time: 3498.20 MB\n"
     ]
    }
   ],
   "source": [
    "print(f\"Memory usage with float64 rain and object type time: {df.memory_usage().sum() / 1e6:.2f} MB\")"
   ]
  },
  {
   "cell_type": "code",
   "execution_count": 11,
   "id": "152aea92-fe80-4a0d-932d-1d60f60fd39e",
   "metadata": {},
   "outputs": [],
   "source": [
    "df.index = pd.to_datetime(df.index)\n",
    "df[\"rain (mm/day)\"] = df['rain (mm/day)'].astype('float32')"
   ]
  },
  {
   "cell_type": "code",
   "execution_count": 12,
   "id": "6fb6ec40-ce1f-4225-9aa7-08f683155e9d",
   "metadata": {},
   "outputs": [
    {
     "data": {
      "text/plain": [
       "(dtype('<M8[ns]'), dtype('float32'))"
      ]
     },
     "execution_count": 12,
     "metadata": {},
     "output_type": "execute_result"
    }
   ],
   "source": [
    "df.index.dtype, df[\"rain (mm/day)\"].dtype"
   ]
  },
  {
   "cell_type": "code",
   "execution_count": 13,
   "id": "7ef9c831-21a7-4913-8cd3-333306221c1c",
   "metadata": {},
   "outputs": [
    {
     "data": {
      "text/plain": [
       "True"
      ]
     },
     "execution_count": 13,
     "metadata": {},
     "output_type": "execute_result"
    }
   ],
   "source": [
    "import numpy as np\n",
    "np.dtype('datetime64[ns]') == np.dtype('<M8[ns]')"
   ]
  },
  {
   "cell_type": "code",
   "execution_count": 14,
   "id": "82373e52-5d50-45cd-8d70-59b639ab1477",
   "metadata": {},
   "outputs": [
    {
     "name": "stdout",
     "output_type": "stream",
     "text": [
      "Memory usage with float32 rain and datetime time/index column: 3248.33 MB\n"
     ]
    }
   ],
   "source": [
    "print(f\"Memory usage with float32 rain and datetime time/index column: {df.memory_usage().sum() / 1e6:.2f} MB\")"
   ]
  },
  {
   "cell_type": "markdown",
   "id": "a1a7e931-dd71-40f6-9570-54a43cf18ae8",
   "metadata": {},
   "source": [
    "Although this might seem insignificant, when we only use the needed columns and apply this datatype, we should see better results. Below, I'll select only the required columns and then do this process again to check."
   ]
  },
  {
   "cell_type": "markdown",
   "id": "0391e4df-9e3b-4b0a-9a5f-0d26a437b5ec",
   "metadata": {},
   "source": [
    "## Load just columns that we want"
   ]
  },
  {
   "cell_type": "code",
   "execution_count": null,
   "id": "eea17320-e7f6-418c-89c0-1675fc5a169a",
   "metadata": {},
   "outputs": [],
   "source": [
    "pd.read_csv(\"combined_data.csv\")"
   ]
  },
  {
   "cell_type": "code",
   "execution_count": 3,
   "id": "b78b9bed-9f40-4ca8-a892-149741e8830e",
   "metadata": {},
   "outputs": [
    {
     "name": "stdout",
     "output_type": "stream",
     "text": [
      "CPU times: total: 5min 34s\n",
      "Wall time: 7min 33s\n"
     ]
    }
   ],
   "source": [
    "%%time\n",
    "df2 = pd.read_csv(\"rainfall/combined_data.csv\", usecols=['time', 'rain (mm/day)', 'model'])"
   ]
  },
  {
   "cell_type": "code",
   "execution_count": 4,
   "id": "58a3d2e9-02f0-4590-a3cb-bccd640ea320",
   "metadata": {},
   "outputs": [
    {
     "name": "stdout",
     "output_type": "stream",
     "text": [
      "Memory usage with selected columns: 3085.71 MB\n"
     ]
    }
   ],
   "source": [
    "print(f\"Memory usage with selected columns: {df2.memory_usage().sum() / 1e6:.2f} MB\")"
   ]
  },
  {
   "cell_type": "markdown",
   "id": "3c81d578-06b3-49fb-b62f-9d743dafea6a",
   "metadata": {},
   "source": [
    "Now, I'll convert the datatypes again as done before and check how much it makes a difference."
   ]
  },
  {
   "cell_type": "code",
   "execution_count": 5,
   "id": "c27ce844-578e-4b2d-add2-86eff6b943c5",
   "metadata": {},
   "outputs": [],
   "source": [
    "df2.time = pd.to_datetime(df2.time)\n",
    "df2[\"rain (mm/day)\"] = df2['rain (mm/day)'].astype('float32')"
   ]
  },
  {
   "cell_type": "code",
   "execution_count": 6,
   "id": "22026933-534d-468b-a117-dd9786564871",
   "metadata": {},
   "outputs": [
    {
     "data": {
      "text/plain": [
       "(dtype('<M8[ns]'), dtype('float32'))"
      ]
     },
     "execution_count": 6,
     "metadata": {},
     "output_type": "execute_result"
    }
   ],
   "source": [
    "df2.time.dtype, df2[\"rain (mm/day)\"].dtype"
   ]
  },
  {
   "cell_type": "code",
   "execution_count": 7,
   "id": "32047893-0b4f-4401-af75-f34996e1bed2",
   "metadata": {},
   "outputs": [
    {
     "name": "stdout",
     "output_type": "stream",
     "text": [
      "Memory usage with selected columns and datatypes: 2571.43 MB\n"
     ]
    }
   ],
   "source": [
    "print(f\"Memory usage with selected columns and datatypes: {df2.memory_usage().sum() / 1e6:.2f} MB\")"
   ]
  },
  {
   "cell_type": "markdown",
   "id": "afab00ce-661c-4e6b-bf9a-ee2ad476ed2a",
   "metadata": {},
   "source": [
    "As we can see, the memory usage change is significant compared to the original. "
   ]
  },
  {
   "cell_type": "markdown",
   "id": "4b07d8a7-a02f-4cc7-a317-df1afa9880c5",
   "metadata": {},
   "source": [
    "## Loading in chunks"
   ]
  },
  {
   "cell_type": "code",
   "execution_count": null,
   "id": "2a66e5e7-e5c9-4e52-adc0-848802887dc2",
   "metadata": {},
   "outputs": [],
   "source": [
    "%%time\n",
    "counts = pd.Series(dtype=int)\n",
    "for chunk in pd.read_csv(\"rainfall/combined_data.csv\", chunksize=10_000_000):\n",
    "    counts = counts.add(chunk[\"model\"].value_counts(), fill_value=0)\n",
    "print(counts.astype(int))"
   ]
  },
  {
   "cell_type": "markdown",
   "id": "b2ec5fc8-6e9d-4500-9d54-3661a8178a3f",
   "metadata": {},
   "source": [
    "# Perform a simple EDA in R"
   ]
  },
  {
   "cell_type": "code",
   "execution_count": 8,
   "id": "0f9bfec3-1bad-474c-a975-f59815aa5fca",
   "metadata": {},
   "outputs": [],
   "source": [
    "#!pip install rpy2_arrow\n",
    "import pyarrow.dataset as ds\n",
    "import pyarrow as pa\n",
    "import pandas as pd\n",
    "import pyarrow \n",
    "from pyarrow import csv\n",
    "import rpy2_arrow.pyarrow_rarrow as pyra"
   ]
  },
  {
   "cell_type": "code",
   "execution_count": 9,
   "id": "3dc328e2-5b4a-4798-b4ed-bfcd29d82733",
   "metadata": {},
   "outputs": [
    {
     "name": "stdout",
     "output_type": "stream",
     "text": [
      "The rpy2.ipython extension is already loaded. To reload it, use:\n",
      "  %reload_ext rpy2.ipython\n"
     ]
    }
   ],
   "source": [
    "%load_ext rpy2.ipython"
   ]
  },
  {
   "cell_type": "code",
   "execution_count": null,
   "id": "3c3d2efe-8659-4c47-90da-e07bb635a247",
   "metadata": {},
   "outputs": [],
   "source": [
    "%%time\n",
    "%%R -i df2\n",
    "start_time <- Sys.time()\n",
    "\n",
    "suppressMessages(library(dplyr))\n",
    "result <- df2 |>\n",
    "    summary()\n",
    "    \n",
    "print(result)\n",
    "\n",
    "end_time <- Sys.time()\n",
    "print(end_time - start_time)"
   ]
  },
  {
   "cell_type": "code",
   "execution_count": null,
   "id": "5cddb66b-021c-499f-b3be-192a6d537e9b",
   "metadata": {},
   "outputs": [],
   "source": [
    "%%time\n",
    "%%R -i df2\n",
    "start_time <- Sys.time()\n",
    "\n",
    "suppressMessages(library(dplyr))\n",
    "suppressMessages(library(ggplot2))\n",
    "\n",
    "result <- df2 |>\n",
    "    ggplot(aes(x = model, y = ` rain (mm/day)`)) +\n",
    "    geom_bar(stat = \"identity\") +\n",
    "    labs(x = \"Model\", y = \"Rain (mm/day)\", title = \"Amount of rain by model\")\n",
    "    \n",
    "print(result)\n",
    "\n",
    "end_time <- Sys.time()\n",
    "print(end_time - start_time)"
   ]
  },
  {
   "cell_type": "code",
   "execution_count": null,
   "id": "232f126a-e138-4802-a70e-d0063209058d",
   "metadata": {},
   "outputs": [],
   "source": []
  }
 ],
 "metadata": {
  "kernelspec": {
   "display_name": "Python [conda env:525_2023]",
   "language": "python",
   "name": "conda-env-525_2023-py"
  },
  "language_info": {
   "codemirror_mode": {
    "name": "ipython",
    "version": 3
   },
   "file_extension": ".py",
   "mimetype": "text/x-python",
   "name": "python",
   "nbconvert_exporter": "python",
   "pygments_lexer": "ipython3",
   "version": "3.10.10"
  }
 },
 "nbformat": 4,
 "nbformat_minor": 5
}
