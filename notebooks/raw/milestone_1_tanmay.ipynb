{
 "cells": [
  {
   "cell_type": "markdown",
   "id": "2cbcb159-0d25-4206-9571-ed414d3a3c06",
   "metadata": {
    "tags": []
   },
   "source": [
    "### Imports"
   ]
  },
  {
   "cell_type": "code",
   "execution_count": 1,
   "id": "099383f9-0260-4fcf-8363-f287e348c466",
   "metadata": {},
   "outputs": [],
   "source": [
    "import re\n",
    "import os\n",
    "import glob\n",
    "import zipfile\n",
    "import requests\n",
    "from urllib.request import urlretrieve\n",
    "import json\n",
    "import pandas as pd"
   ]
  },
  {
   "cell_type": "code",
   "execution_count": null,
   "id": "2c0035b2-48b6-4b9b-aa84-ce2c559d3e71",
   "metadata": {},
   "outputs": [],
   "source": [
    "# Necessary metadata\n",
    "article_id = 14096681  # this is the unique identifier of the article on figshare\n",
    "url = f\"https://api.figshare.com/v2/articles/{article_id}\"\n",
    "headers = {\"Content-Type\": \"application/json\"}\n",
    "output_directory = \"rainfall/\""
   ]
  },
  {
   "cell_type": "code",
   "execution_count": 3,
   "id": "836a5e96-d238-48f3-ae6b-593254df8b5f",
   "metadata": {},
   "outputs": [
    {
     "data": {
      "text/plain": [
       "[{'id': 26579150,\n",
       "  'name': 'daily_rainfall_2014.png',\n",
       "  'size': 58863,\n",
       "  'is_link_only': False,\n",
       "  'download_url': 'https://ndownloader.figshare.com/files/26579150',\n",
       "  'supplied_md5': 'fd32a2ffde300a31f8d63b1825d47e5e',\n",
       "  'computed_md5': 'fd32a2ffde300a31f8d63b1825d47e5e'},\n",
       " {'id': 26579171,\n",
       "  'name': 'environment.yml',\n",
       "  'size': 192,\n",
       "  'is_link_only': False,\n",
       "  'download_url': 'https://ndownloader.figshare.com/files/26579171',\n",
       "  'supplied_md5': '060b2020017eed93a1ee7dd8c65b2f34',\n",
       "  'computed_md5': '060b2020017eed93a1ee7dd8c65b2f34'},\n",
       " {'id': 26586554,\n",
       "  'name': 'README.md',\n",
       "  'size': 5422,\n",
       "  'is_link_only': False,\n",
       "  'download_url': 'https://ndownloader.figshare.com/files/26586554',\n",
       "  'supplied_md5': '61858c6cc0e6a6d6663a7e4c75bbd88c',\n",
       "  'computed_md5': '61858c6cc0e6a6d6663a7e4c75bbd88c'},\n",
       " {'id': 26766812,\n",
       "  'name': 'data.zip',\n",
       "  'size': 814041183,\n",
       "  'is_link_only': False,\n",
       "  'download_url': 'https://ndownloader.figshare.com/files/26766812',\n",
       "  'supplied_md5': 'b517383f76e77bd03755a63a8ff83ee9',\n",
       "  'computed_md5': 'b517383f76e77bd03755a63a8ff83ee9'},\n",
       " {'id': 26766815,\n",
       "  'name': 'get_data.py',\n",
       "  'size': 4113,\n",
       "  'is_link_only': False,\n",
       "  'download_url': 'https://ndownloader.figshare.com/files/26766815',\n",
       "  'supplied_md5': '7829028495fd9dec9680ea013474afa6',\n",
       "  'computed_md5': '7829028495fd9dec9680ea013474afa6'}]"
      ]
     },
     "execution_count": 3,
     "metadata": {},
     "output_type": "execute_result"
    }
   ],
   "source": [
    "response = requests.request(\"GET\", url, headers=headers)\n",
    "data = json.loads(response.text)  # this contains all the articles data, feel free to check it out\n",
    "files = data[\"files\"]             # this is just the data about the files, which is what we want\n",
    "files\n"
   ]
  },
  {
   "cell_type": "code",
   "execution_count": 4,
   "id": "3bfe6787-3f88-4972-b728-77e075d0051e",
   "metadata": {},
   "outputs": [
    {
     "name": "stdout",
     "output_type": "stream",
     "text": [
      "CPU times: user 1.93 s, sys: 2.41 s, total: 4.34 s\n",
      "Wall time: 43.9 s\n"
     ]
    }
   ],
   "source": [
    "%%time\n",
    "files_to_dl = [\"data.zip\"]  # feel free to add other files here\n",
    "for file in files:\n",
    "    if file[\"name\"] in files_to_dl:\n",
    "        os.makedirs(output_directory, exist_ok=True)\n",
    "        urlretrieve(file[\"download_url\"], output_directory + file[\"name\"])\n"
   ]
  },
  {
   "cell_type": "code",
   "execution_count": 5,
   "id": "8659db0a-57e7-469c-a247-b61dd7b9c9b0",
   "metadata": {},
   "outputs": [
    {
     "name": "stdout",
     "output_type": "stream",
     "text": [
      "CPU times: user 10.1 s, sys: 1.54 s, total: 11.7 s\n",
      "Wall time: 12.1 s\n"
     ]
    }
   ],
   "source": [
    "%%time\n",
    "with zipfile.ZipFile(os.path.join(output_directory, \"data.zip\"), 'r') as f:\n",
    "    f.extractall(os.path.join(output_directory,'data'))"
   ]
  },
  {
   "cell_type": "code",
   "execution_count": 6,
   "id": "a904cee1-0b03-4381-8c2a-b4a2f98e943f",
   "metadata": {},
   "outputs": [
    {
     "name": "stdout",
     "output_type": "stream",
     "text": [
      "total 10448008\n",
      "-rw-r--r--   1 tanmayagarwal  staff   95376895 31 Mar 17:01 MPI-ESM-1-2-HAM_daily_rainfall_NSW.csv\n",
      "-rw-r--r--   1 tanmayagarwal  staff   94960113 31 Mar 17:01 AWI-ESM-1-1-LR_daily_rainfall_NSW.csv\n",
      "-rw-r--r--   1 tanmayagarwal  staff   82474546 31 Mar 17:01 NorESM2-LM_daily_rainfall_NSW.csv\n",
      "-rw-r--r--   1 tanmayagarwal  staff  127613760 31 Mar 17:01 ACCESS-CM2_daily_rainfall_NSW.csv\n",
      "-rw-r--r--   1 tanmayagarwal  staff  232118894 31 Mar 17:01 FGOALS-f3-L_daily_rainfall_NSW.csv\n",
      "-rw-r--r--   1 tanmayagarwal  staff  330360682 31 Mar 17:01 CMCC-CM2-HR4_daily_rainfall_NSW.csv\n",
      "-rw-r--r--   1 tanmayagarwal  staff  254009247 31 Mar 17:02 MRI-ESM2-0_daily_rainfall_NSW.csv\n",
      "-rw-r--r--   1 tanmayagarwal  staff  235661418 31 Mar 17:02 GFDL-CM4_daily_rainfall_NSW.csv\n",
      "-rw-r--r--   1 tanmayagarwal  staff  294260911 31 Mar 17:02 BCC-CSM2-MR_daily_rainfall_NSW.csv\n",
      "-rw-r--r--   1 tanmayagarwal  staff  295768615 31 Mar 17:02 EC-Earth3-Veg-LR_daily_rainfall_NSW.csv\n",
      "-rw-r--r--   1 tanmayagarwal  staff  328852379 31 Mar 17:02 CMCC-ESM2_daily_rainfall_NSW.csv\n",
      "-rw-r--r--   1 tanmayagarwal  staff   67784105 31 Mar 17:02 NESM3_daily_rainfall_NSW.csv\n",
      "-rw-r--r--   1 tanmayagarwal  staff   95640682 31 Mar 17:02 MPI-ESM1-2-LR_daily_rainfall_NSW.csv\n",
      "-rw-r--r--   1 tanmayagarwal  staff  114707410 31 Mar 17:02 ACCESS-ESM1-5_daily_rainfall_NSW.csv\n",
      "-rw-r--r--   1 tanmayagarwal  staff  116179272 31 Mar 17:02 FGOALS-g3_daily_rainfall_NSW.csv\n",
      "-rw-r--r--   1 tanmayagarwal  staff  102517965 31 Mar 17:02 INM-CM4-8_daily_rainfall_NSW.csv\n",
      "-rw-r--r--   1 tanmayagarwal  staff  515458033 31 Mar 17:02 MPI-ESM1-2-HR_daily_rainfall_NSW.csv\n",
      "-rw-r--r--   1 tanmayagarwal  staff  332813281 31 Mar 17:02 TaiESM1_daily_rainfall_NSW.csv\n",
      "-rw-r--r--   1 tanmayagarwal  staff  337555851 31 Mar 17:02 NorESM2-MM_daily_rainfall_NSW.csv\n",
      "-rw-r--r--   1 tanmayagarwal  staff  328787320 31 Mar 17:02 CMCC-CM2-SR5_daily_rainfall_NSW.csv\n",
      "-rw-r--r--   1 tanmayagarwal  staff     952202 31 Mar 17:02 observed_daily_rainfall_SYD.csv\n",
      "-rw-r--r--   1 tanmayagarwal  staff   93829697 31 Mar 17:02 KIOST-ESM_daily_rainfall_NSW.csv\n",
      "-rw-r--r--   1 tanmayagarwal  staff  102692289 31 Mar 17:02 INM-CM5-0_daily_rainfall_NSW.csv\n",
      "-rw-r--r--   1 tanmayagarwal  staff  206822938 31 Mar 17:02 MIROC6_daily_rainfall_NSW.csv\n",
      "-rw-r--r--   1 tanmayagarwal  staff   55224437 31 Mar 17:02 BCC-ESM1_daily_rainfall_NSW.csv\n",
      "-rw-r--r--   1 tanmayagarwal  staff  124586961 31 Mar 17:02 GFDL-ESM4_daily_rainfall_NSW.csv\n",
      "-rw-r--r--   1 tanmayagarwal  staff   46286371 31 Mar 17:02 CanESM5_daily_rainfall_NSW.csv\n",
      "-rw-r--r--   1 tanmayagarwal  staff  333489879 31 Mar 17:02 SAM0-UNICON_daily_rainfall_NSW.csv\n",
      "drwxr-xr-x  30 tanmayagarwal  staff        960 31 Mar 17:02 \u001b[1m\u001b[34m__MACOSX\u001b[m\u001b[m/\n"
     ]
    }
   ],
   "source": [
    "%ls -ltr rainfall/data/\n"
   ]
  },
  {
   "cell_type": "code",
   "execution_count": 7,
   "id": "d9f05940-4bc5-471c-b5f5-11e86b536c47",
   "metadata": {},
   "outputs": [
    {
     "name": "stdout",
     "output_type": "stream",
     "text": [
      "CPU times: user 816 ms, sys: 80.5 ms, total: 896 ms\n",
      "Wall time: 907 ms\n"
     ]
    },
    {
     "data": {
      "text/html": [
       "<div>\n",
       "<style scoped>\n",
       "    .dataframe tbody tr th:only-of-type {\n",
       "        vertical-align: middle;\n",
       "    }\n",
       "\n",
       "    .dataframe tbody tr th {\n",
       "        vertical-align: top;\n",
       "    }\n",
       "\n",
       "    .dataframe thead th {\n",
       "        text-align: right;\n",
       "    }\n",
       "</style>\n",
       "<table border=\"1\" class=\"dataframe\">\n",
       "  <thead>\n",
       "    <tr style=\"text-align: right;\">\n",
       "      <th></th>\n",
       "      <th>time</th>\n",
       "      <th>lat_min</th>\n",
       "      <th>lat_max</th>\n",
       "      <th>lon_min</th>\n",
       "      <th>lon_max</th>\n",
       "      <th>rain (mm/day)</th>\n",
       "    </tr>\n",
       "  </thead>\n",
       "  <tbody>\n",
       "    <tr>\n",
       "      <th>0</th>\n",
       "      <td>1889-01-01 12:00:00</td>\n",
       "      <td>-36.25</td>\n",
       "      <td>-35.00</td>\n",
       "      <td>140.625</td>\n",
       "      <td>142.50</td>\n",
       "      <td>3.293256e-13</td>\n",
       "    </tr>\n",
       "    <tr>\n",
       "      <th>1</th>\n",
       "      <td>1889-01-02 12:00:00</td>\n",
       "      <td>-36.25</td>\n",
       "      <td>-35.00</td>\n",
       "      <td>140.625</td>\n",
       "      <td>142.50</td>\n",
       "      <td>0.000000e+00</td>\n",
       "    </tr>\n",
       "    <tr>\n",
       "      <th>2</th>\n",
       "      <td>1889-01-03 12:00:00</td>\n",
       "      <td>-36.25</td>\n",
       "      <td>-35.00</td>\n",
       "      <td>140.625</td>\n",
       "      <td>142.50</td>\n",
       "      <td>0.000000e+00</td>\n",
       "    </tr>\n",
       "    <tr>\n",
       "      <th>3</th>\n",
       "      <td>1889-01-04 12:00:00</td>\n",
       "      <td>-36.25</td>\n",
       "      <td>-35.00</td>\n",
       "      <td>140.625</td>\n",
       "      <td>142.50</td>\n",
       "      <td>0.000000e+00</td>\n",
       "    </tr>\n",
       "    <tr>\n",
       "      <th>4</th>\n",
       "      <td>1889-01-05 12:00:00</td>\n",
       "      <td>-36.25</td>\n",
       "      <td>-35.00</td>\n",
       "      <td>140.625</td>\n",
       "      <td>142.50</td>\n",
       "      <td>1.047658e-02</td>\n",
       "    </tr>\n",
       "    <tr>\n",
       "      <th>...</th>\n",
       "      <td>...</td>\n",
       "      <td>...</td>\n",
       "      <td>...</td>\n",
       "      <td>...</td>\n",
       "      <td>...</td>\n",
       "      <td>...</td>\n",
       "    </tr>\n",
       "    <tr>\n",
       "      <th>1932835</th>\n",
       "      <td>2014-12-27 12:00:00</td>\n",
       "      <td>-30.00</td>\n",
       "      <td>-28.75</td>\n",
       "      <td>151.875</td>\n",
       "      <td>153.75</td>\n",
       "      <td>2.951144e-02</td>\n",
       "    </tr>\n",
       "    <tr>\n",
       "      <th>1932836</th>\n",
       "      <td>2014-12-28 12:00:00</td>\n",
       "      <td>-30.00</td>\n",
       "      <td>-28.75</td>\n",
       "      <td>151.875</td>\n",
       "      <td>153.75</td>\n",
       "      <td>2.257118e-01</td>\n",
       "    </tr>\n",
       "    <tr>\n",
       "      <th>1932837</th>\n",
       "      <td>2014-12-29 12:00:00</td>\n",
       "      <td>-30.00</td>\n",
       "      <td>-28.75</td>\n",
       "      <td>151.875</td>\n",
       "      <td>153.75</td>\n",
       "      <td>1.204670e-01</td>\n",
       "    </tr>\n",
       "    <tr>\n",
       "      <th>1932838</th>\n",
       "      <td>2014-12-30 12:00:00</td>\n",
       "      <td>-30.00</td>\n",
       "      <td>-28.75</td>\n",
       "      <td>151.875</td>\n",
       "      <td>153.75</td>\n",
       "      <td>2.632404e-02</td>\n",
       "    </tr>\n",
       "    <tr>\n",
       "      <th>1932839</th>\n",
       "      <td>2014-12-31 12:00:00</td>\n",
       "      <td>-30.00</td>\n",
       "      <td>-28.75</td>\n",
       "      <td>151.875</td>\n",
       "      <td>153.75</td>\n",
       "      <td>3.431610e-02</td>\n",
       "    </tr>\n",
       "  </tbody>\n",
       "</table>\n",
       "<p>1932840 rows × 6 columns</p>\n",
       "</div>"
      ],
      "text/plain": [
       "                        time  lat_min  lat_max  lon_min  lon_max  \\\n",
       "0        1889-01-01 12:00:00   -36.25   -35.00  140.625   142.50   \n",
       "1        1889-01-02 12:00:00   -36.25   -35.00  140.625   142.50   \n",
       "2        1889-01-03 12:00:00   -36.25   -35.00  140.625   142.50   \n",
       "3        1889-01-04 12:00:00   -36.25   -35.00  140.625   142.50   \n",
       "4        1889-01-05 12:00:00   -36.25   -35.00  140.625   142.50   \n",
       "...                      ...      ...      ...      ...      ...   \n",
       "1932835  2014-12-27 12:00:00   -30.00   -28.75  151.875   153.75   \n",
       "1932836  2014-12-28 12:00:00   -30.00   -28.75  151.875   153.75   \n",
       "1932837  2014-12-29 12:00:00   -30.00   -28.75  151.875   153.75   \n",
       "1932838  2014-12-30 12:00:00   -30.00   -28.75  151.875   153.75   \n",
       "1932839  2014-12-31 12:00:00   -30.00   -28.75  151.875   153.75   \n",
       "\n",
       "         rain (mm/day)  \n",
       "0         3.293256e-13  \n",
       "1         0.000000e+00  \n",
       "2         0.000000e+00  \n",
       "3         0.000000e+00  \n",
       "4         1.047658e-02  \n",
       "...                ...  \n",
       "1932835   2.951144e-02  \n",
       "1932836   2.257118e-01  \n",
       "1932837   1.204670e-01  \n",
       "1932838   2.632404e-02  \n",
       "1932839   3.431610e-02  \n",
       "\n",
       "[1932840 rows x 6 columns]"
      ]
     },
     "execution_count": 7,
     "metadata": {},
     "output_type": "execute_result"
    }
   ],
   "source": [
    "%%time\n",
    "### just listing to get an idea how individual file looks like \n",
    "use_cols = ['time', 'lat_min', 'lat_max', 'lon_min', 'lon_max', 'rain (mm/day)']\n",
    "df = pd.read_csv(\"rainfall/data/ACCESS-CM2_daily_rainfall_NSW.csv\", usecols=use_cols,dtype={'TailNum': 'str'})\n",
    "df\n"
   ]
  },
  {
   "cell_type": "code",
   "execution_count": 8,
   "id": "1cb23fb8-14f5-45c9-adb8-0fb2224207f6",
   "metadata": {},
   "outputs": [
    {
     "name": "stdout",
     "output_type": "stream",
     "text": [
      "total 10448008\n",
      "-rw-r--r--   1 tanmayagarwal  staff   95376895 31 Mar 17:01 MPI-ESM-1-2-HAM_daily_rainfall_NSW.csv\n",
      "-rw-r--r--   1 tanmayagarwal  staff   94960113 31 Mar 17:01 AWI-ESM-1-1-LR_daily_rainfall_NSW.csv\n",
      "-rw-r--r--   1 tanmayagarwal  staff   82474546 31 Mar 17:01 NorESM2-LM_daily_rainfall_NSW.csv\n",
      "-rw-r--r--   1 tanmayagarwal  staff  127613760 31 Mar 17:01 ACCESS-CM2_daily_rainfall_NSW.csv\n",
      "-rw-r--r--   1 tanmayagarwal  staff  232118894 31 Mar 17:01 FGOALS-f3-L_daily_rainfall_NSW.csv\n",
      "-rw-r--r--   1 tanmayagarwal  staff  330360682 31 Mar 17:01 CMCC-CM2-HR4_daily_rainfall_NSW.csv\n",
      "-rw-r--r--   1 tanmayagarwal  staff  254009247 31 Mar 17:02 MRI-ESM2-0_daily_rainfall_NSW.csv\n",
      "-rw-r--r--   1 tanmayagarwal  staff  235661418 31 Mar 17:02 GFDL-CM4_daily_rainfall_NSW.csv\n",
      "-rw-r--r--   1 tanmayagarwal  staff  294260911 31 Mar 17:02 BCC-CSM2-MR_daily_rainfall_NSW.csv\n",
      "-rw-r--r--   1 tanmayagarwal  staff  295768615 31 Mar 17:02 EC-Earth3-Veg-LR_daily_rainfall_NSW.csv\n",
      "-rw-r--r--   1 tanmayagarwal  staff  328852379 31 Mar 17:02 CMCC-ESM2_daily_rainfall_NSW.csv\n",
      "-rw-r--r--   1 tanmayagarwal  staff   67784105 31 Mar 17:02 NESM3_daily_rainfall_NSW.csv\n",
      "-rw-r--r--   1 tanmayagarwal  staff   95640682 31 Mar 17:02 MPI-ESM1-2-LR_daily_rainfall_NSW.csv\n",
      "-rw-r--r--   1 tanmayagarwal  staff  114707410 31 Mar 17:02 ACCESS-ESM1-5_daily_rainfall_NSW.csv\n",
      "-rw-r--r--   1 tanmayagarwal  staff  116179272 31 Mar 17:02 FGOALS-g3_daily_rainfall_NSW.csv\n",
      "-rw-r--r--   1 tanmayagarwal  staff  102517965 31 Mar 17:02 INM-CM4-8_daily_rainfall_NSW.csv\n",
      "-rw-r--r--   1 tanmayagarwal  staff  515458033 31 Mar 17:02 MPI-ESM1-2-HR_daily_rainfall_NSW.csv\n",
      "-rw-r--r--   1 tanmayagarwal  staff  332813281 31 Mar 17:02 TaiESM1_daily_rainfall_NSW.csv\n",
      "-rw-r--r--   1 tanmayagarwal  staff  337555851 31 Mar 17:02 NorESM2-MM_daily_rainfall_NSW.csv\n",
      "-rw-r--r--   1 tanmayagarwal  staff  328787320 31 Mar 17:02 CMCC-CM2-SR5_daily_rainfall_NSW.csv\n",
      "-rw-r--r--   1 tanmayagarwal  staff     952202 31 Mar 17:02 observed_daily_rainfall_SYD.csv\n",
      "-rw-r--r--   1 tanmayagarwal  staff   93829697 31 Mar 17:02 KIOST-ESM_daily_rainfall_NSW.csv\n",
      "-rw-r--r--   1 tanmayagarwal  staff  102692289 31 Mar 17:02 INM-CM5-0_daily_rainfall_NSW.csv\n",
      "-rw-r--r--   1 tanmayagarwal  staff  206822938 31 Mar 17:02 MIROC6_daily_rainfall_NSW.csv\n",
      "-rw-r--r--   1 tanmayagarwal  staff   55224437 31 Mar 17:02 BCC-ESM1_daily_rainfall_NSW.csv\n",
      "-rw-r--r--   1 tanmayagarwal  staff  124586961 31 Mar 17:02 GFDL-ESM4_daily_rainfall_NSW.csv\n",
      "-rw-r--r--   1 tanmayagarwal  staff   46286371 31 Mar 17:02 CanESM5_daily_rainfall_NSW.csv\n",
      "-rw-r--r--   1 tanmayagarwal  staff  333489879 31 Mar 17:02 SAM0-UNICON_daily_rainfall_NSW.csv\n",
      "drwxr-xr-x  30 tanmayagarwal  staff        960 31 Mar 17:02 \u001b[1m\u001b[34m__MACOSX\u001b[m\u001b[m/\n"
     ]
    }
   ],
   "source": [
    "%ls -ltr rainfall/data/\n"
   ]
  },
  {
   "cell_type": "code",
   "execution_count": 12,
   "id": "7e714d09-04a7-495f-9864-069e877dfa04",
   "metadata": {},
   "outputs": [
    {
     "data": {
      "text/plain": [
       "['rainfall/data/MPI-ESM-1-2-HAM_daily_rainfall_NSW.csv',\n",
       " 'rainfall/data/AWI-ESM-1-1-LR_daily_rainfall_NSW.csv',\n",
       " 'rainfall/data/NorESM2-LM_daily_rainfall_NSW.csv',\n",
       " 'rainfall/data/ACCESS-CM2_daily_rainfall_NSW.csv',\n",
       " 'rainfall/data/FGOALS-f3-L_daily_rainfall_NSW.csv',\n",
       " 'rainfall/data/CMCC-CM2-HR4_daily_rainfall_NSW.csv',\n",
       " 'rainfall/data/MRI-ESM2-0_daily_rainfall_NSW.csv',\n",
       " 'rainfall/data/GFDL-CM4_daily_rainfall_NSW.csv',\n",
       " 'rainfall/data/BCC-CSM2-MR_daily_rainfall_NSW.csv',\n",
       " 'rainfall/data/EC-Earth3-Veg-LR_daily_rainfall_NSW.csv',\n",
       " 'rainfall/data/CMCC-ESM2_daily_rainfall_NSW.csv',\n",
       " 'rainfall/data/NESM3_daily_rainfall_NSW.csv',\n",
       " 'rainfall/data/MPI-ESM1-2-LR_daily_rainfall_NSW.csv',\n",
       " 'rainfall/data/ACCESS-ESM1-5_daily_rainfall_NSW.csv',\n",
       " 'rainfall/data/FGOALS-g3_daily_rainfall_NSW.csv',\n",
       " 'rainfall/data/INM-CM4-8_daily_rainfall_NSW.csv',\n",
       " 'rainfall/data/MPI-ESM1-2-HR_daily_rainfall_NSW.csv',\n",
       " 'rainfall/data/TaiESM1_daily_rainfall_NSW.csv',\n",
       " 'rainfall/data/NorESM2-MM_daily_rainfall_NSW.csv',\n",
       " 'rainfall/data/CMCC-CM2-SR5_daily_rainfall_NSW.csv',\n",
       " 'rainfall/data/observed_daily_rainfall_SYD.csv',\n",
       " 'rainfall/data/KIOST-ESM_daily_rainfall_NSW.csv',\n",
       " 'rainfall/data/INM-CM5-0_daily_rainfall_NSW.csv',\n",
       " 'rainfall/data/MIROC6_daily_rainfall_NSW.csv',\n",
       " 'rainfall/data/BCC-ESM1_daily_rainfall_NSW.csv',\n",
       " 'rainfall/data/GFDL-ESM4_daily_rainfall_NSW.csv',\n",
       " 'rainfall/data/CanESM5_daily_rainfall_NSW.csv',\n",
       " 'rainfall/data/SAM0-UNICON_daily_rainfall_NSW.csv']"
      ]
     },
     "execution_count": 12,
     "metadata": {},
     "output_type": "execute_result"
    }
   ],
   "source": []
  },
  {
   "cell_type": "code",
   "execution_count": 13,
   "id": "84aecbfd-4b90-420b-9dd6-4987e803c388",
   "metadata": {},
   "outputs": [
    {
     "name": "stdout",
     "output_type": "stream",
     "text": [
      "CPU times: user 5min 7s, sys: 11.7 s, total: 5min 19s\n",
      "Wall time: 5min 25s\n"
     ]
    }
   ],
   "source": [
    "%%time\n",
    "## here we are using a normal python way for merging the data \n",
    "import pandas as pd\n",
    "files = glob.glob('rainfall/data/*.csv')\n",
    "files.remove( 'rainfall/data/observed_daily_rainfall_SYD.csv')\n",
    "df = pd.concat(pd.read_csv(file, index_col=0, parse_dates=True, \n",
    "            usecols=use_cols).assign(model = re.findall(\"/([^_]*)\", file)[0])\n",
    "          for file in files)\n",
    "              \n",
    "df.to_csv(\"rainfall/combined_data.csv\")\n"
   ]
  },
  {
   "cell_type": "code",
   "execution_count": 62,
   "id": "d6638a87-4d0d-4d25-9e48-2ce4e79fad2d",
   "metadata": {},
   "outputs": [
    {
     "data": {
      "text/html": [
       "<div>\n",
       "<style scoped>\n",
       "    .dataframe tbody tr th:only-of-type {\n",
       "        vertical-align: middle;\n",
       "    }\n",
       "\n",
       "    .dataframe tbody tr th {\n",
       "        vertical-align: top;\n",
       "    }\n",
       "\n",
       "    .dataframe thead th {\n",
       "        text-align: right;\n",
       "    }\n",
       "</style>\n",
       "<table border=\"1\" class=\"dataframe\">\n",
       "  <thead>\n",
       "    <tr style=\"text-align: right;\">\n",
       "      <th></th>\n",
       "      <th>lat_min</th>\n",
       "      <th>lat_max</th>\n",
       "      <th>lon_min</th>\n",
       "      <th>lon_max</th>\n",
       "      <th>rain (mm/day)</th>\n",
       "      <th>model</th>\n",
       "    </tr>\n",
       "    <tr>\n",
       "      <th>time</th>\n",
       "      <th></th>\n",
       "      <th></th>\n",
       "      <th></th>\n",
       "      <th></th>\n",
       "      <th></th>\n",
       "      <th></th>\n",
       "    </tr>\n",
       "  </thead>\n",
       "  <tbody>\n",
       "    <tr>\n",
       "      <th>1889-01-01 12:00:00</th>\n",
       "      <td>-35.439867</td>\n",
       "      <td>-33.574619</td>\n",
       "      <td>141.5625</td>\n",
       "      <td>143.4375</td>\n",
       "      <td>4.244226e-13</td>\n",
       "      <td>MPI-ESM-1-2-HAM</td>\n",
       "    </tr>\n",
       "    <tr>\n",
       "      <th>1889-01-02 12:00:00</th>\n",
       "      <td>-35.439867</td>\n",
       "      <td>-33.574619</td>\n",
       "      <td>141.5625</td>\n",
       "      <td>143.4375</td>\n",
       "      <td>4.217326e-13</td>\n",
       "      <td>MPI-ESM-1-2-HAM</td>\n",
       "    </tr>\n",
       "    <tr>\n",
       "      <th>1889-01-03 12:00:00</th>\n",
       "      <td>-35.439867</td>\n",
       "      <td>-33.574619</td>\n",
       "      <td>141.5625</td>\n",
       "      <td>143.4375</td>\n",
       "      <td>4.498125e-13</td>\n",
       "      <td>MPI-ESM-1-2-HAM</td>\n",
       "    </tr>\n",
       "    <tr>\n",
       "      <th>1889-01-04 12:00:00</th>\n",
       "      <td>-35.439867</td>\n",
       "      <td>-33.574619</td>\n",
       "      <td>141.5625</td>\n",
       "      <td>143.4375</td>\n",
       "      <td>4.251282e-13</td>\n",
       "      <td>MPI-ESM-1-2-HAM</td>\n",
       "    </tr>\n",
       "    <tr>\n",
       "      <th>1889-01-05 12:00:00</th>\n",
       "      <td>-35.439867</td>\n",
       "      <td>-33.574619</td>\n",
       "      <td>141.5625</td>\n",
       "      <td>143.4375</td>\n",
       "      <td>4.270161e-13</td>\n",
       "      <td>MPI-ESM-1-2-HAM</td>\n",
       "    </tr>\n",
       "    <tr>\n",
       "      <th>...</th>\n",
       "      <td>...</td>\n",
       "      <td>...</td>\n",
       "      <td>...</td>\n",
       "      <td>...</td>\n",
       "      <td>...</td>\n",
       "      <td>...</td>\n",
       "    </tr>\n",
       "    <tr>\n",
       "      <th>2014-12-27 12:00:00</th>\n",
       "      <td>-30.157068</td>\n",
       "      <td>-29.214660</td>\n",
       "      <td>153.1250</td>\n",
       "      <td>154.3750</td>\n",
       "      <td>6.689683e+00</td>\n",
       "      <td>SAM0-UNICON</td>\n",
       "    </tr>\n",
       "    <tr>\n",
       "      <th>2014-12-28 12:00:00</th>\n",
       "      <td>-30.157068</td>\n",
       "      <td>-29.214660</td>\n",
       "      <td>153.1250</td>\n",
       "      <td>154.3750</td>\n",
       "      <td>7.862555e+00</td>\n",
       "      <td>SAM0-UNICON</td>\n",
       "    </tr>\n",
       "    <tr>\n",
       "      <th>2014-12-29 12:00:00</th>\n",
       "      <td>-30.157068</td>\n",
       "      <td>-29.214660</td>\n",
       "      <td>153.1250</td>\n",
       "      <td>154.3750</td>\n",
       "      <td>1.000503e+01</td>\n",
       "      <td>SAM0-UNICON</td>\n",
       "    </tr>\n",
       "    <tr>\n",
       "      <th>2014-12-30 12:00:00</th>\n",
       "      <td>-30.157068</td>\n",
       "      <td>-29.214660</td>\n",
       "      <td>153.1250</td>\n",
       "      <td>154.3750</td>\n",
       "      <td>8.541592e+00</td>\n",
       "      <td>SAM0-UNICON</td>\n",
       "    </tr>\n",
       "    <tr>\n",
       "      <th>2014-12-31 12:00:00</th>\n",
       "      <td>-30.157068</td>\n",
       "      <td>-29.214660</td>\n",
       "      <td>153.1250</td>\n",
       "      <td>154.3750</td>\n",
       "      <td>6.811749e+01</td>\n",
       "      <td>SAM0-UNICON</td>\n",
       "    </tr>\n",
       "  </tbody>\n",
       "</table>\n",
       "<p>62467843 rows × 6 columns</p>\n",
       "</div>"
      ],
      "text/plain": [
       "                       lat_min    lat_max   lon_min   lon_max  rain (mm/day)  \\\n",
       "time                                                                           \n",
       "1889-01-01 12:00:00 -35.439867 -33.574619  141.5625  143.4375   4.244226e-13   \n",
       "1889-01-02 12:00:00 -35.439867 -33.574619  141.5625  143.4375   4.217326e-13   \n",
       "1889-01-03 12:00:00 -35.439867 -33.574619  141.5625  143.4375   4.498125e-13   \n",
       "1889-01-04 12:00:00 -35.439867 -33.574619  141.5625  143.4375   4.251282e-13   \n",
       "1889-01-05 12:00:00 -35.439867 -33.574619  141.5625  143.4375   4.270161e-13   \n",
       "...                        ...        ...       ...       ...            ...   \n",
       "2014-12-27 12:00:00 -30.157068 -29.214660  153.1250  154.3750   6.689683e+00   \n",
       "2014-12-28 12:00:00 -30.157068 -29.214660  153.1250  154.3750   7.862555e+00   \n",
       "2014-12-29 12:00:00 -30.157068 -29.214660  153.1250  154.3750   1.000503e+01   \n",
       "2014-12-30 12:00:00 -30.157068 -29.214660  153.1250  154.3750   8.541592e+00   \n",
       "2014-12-31 12:00:00 -30.157068 -29.214660  153.1250  154.3750   6.811749e+01   \n",
       "\n",
       "                               model  \n",
       "time                                  \n",
       "1889-01-01 12:00:00  MPI-ESM-1-2-HAM  \n",
       "1889-01-02 12:00:00  MPI-ESM-1-2-HAM  \n",
       "1889-01-03 12:00:00  MPI-ESM-1-2-HAM  \n",
       "1889-01-04 12:00:00  MPI-ESM-1-2-HAM  \n",
       "1889-01-05 12:00:00  MPI-ESM-1-2-HAM  \n",
       "...                              ...  \n",
       "2014-12-27 12:00:00      SAM0-UNICON  \n",
       "2014-12-28 12:00:00      SAM0-UNICON  \n",
       "2014-12-29 12:00:00      SAM0-UNICON  \n",
       "2014-12-30 12:00:00      SAM0-UNICON  \n",
       "2014-12-31 12:00:00      SAM0-UNICON  \n",
       "\n",
       "[62467843 rows x 6 columns]"
      ]
     },
     "execution_count": 62,
     "metadata": {},
     "output_type": "execute_result"
    }
   ],
   "source": [
    "df"
   ]
  },
  {
   "cell_type": "code",
   "execution_count": 14,
   "id": "27366376-859b-4399-ac82-154b081a11cd",
   "metadata": {},
   "outputs": [
    {
     "name": "stdout",
     "output_type": "stream",
     "text": [
      "5.9G\trainfall/combined_data.csv\n"
     ]
    }
   ],
   "source": [
    "%%sh\n",
    "du -sh rainfall/combined_data.csv\n"
   ]
  },
  {
   "cell_type": "code",
   "execution_count": 15,
   "id": "f40627a5-b6bb-408e-b50f-89b19a3f0ebb",
   "metadata": {},
   "outputs": [
    {
     "name": "stdout",
     "output_type": "stream",
     "text": [
      "(62467843, 6)\n"
     ]
    }
   ],
   "source": [
    "print(df.shape)\n"
   ]
  },
  {
   "cell_type": "code",
   "execution_count": 16,
   "id": "15cee43d-1331-4d08-8d06-8f0fb2e2835a",
   "metadata": {},
   "outputs": [
    {
     "data": {
      "text/plain": [
       "Index(['lat_min', 'lat_max', 'lon_min', 'lon_max', 'rain (mm/day)', 'model'], dtype='object')"
      ]
     },
     "execution_count": 16,
     "metadata": {},
     "output_type": "execute_result"
    }
   ],
   "source": [
    "df.columns"
   ]
  },
  {
   "cell_type": "markdown",
   "id": "a4bc7eb3-a493-442d-96a8-7de6281d3766",
   "metadata": {},
   "source": [
    "### Trying to load data to memory"
   ]
  },
  {
   "cell_type": "code",
   "execution_count": 4,
   "id": "dd88e6d3-35d3-4623-a0d9-67f6ce3026c9",
   "metadata": {
    "collapsed": true,
    "jupyter": {
     "outputs_hidden": true
    },
    "tags": []
   },
   "outputs": [
    {
     "ename": "ParserError",
     "evalue": "Error tokenizing data. C error: Calling read(nbytes) on source failed. Try engine='python'.",
     "output_type": "error",
     "traceback": [
      "\u001b[0;31m---------------------------------------------------------------------------\u001b[0m",
      "\u001b[0;31mParserError\u001b[0m                               Traceback (most recent call last)",
      "Cell \u001b[0;32mIn[4], line 1\u001b[0m\n\u001b[0;32m----> 1\u001b[0m df \u001b[38;5;241m=\u001b[39m \u001b[43mpd\u001b[49m\u001b[38;5;241;43m.\u001b[39;49m\u001b[43mread_csv\u001b[49m\u001b[43m(\u001b[49m\u001b[38;5;124;43m\"\u001b[39;49m\u001b[38;5;124;43mrainfall/combined_data.csv\u001b[39;49m\u001b[38;5;124;43m\"\u001b[39;49m\u001b[43m)\u001b[49m\n",
      "File \u001b[0;32m~/opt/miniconda3/envs/525_dev/lib/python3.10/site-packages/pandas/util/_decorators.py:211\u001b[0m, in \u001b[0;36mdeprecate_kwarg.<locals>._deprecate_kwarg.<locals>.wrapper\u001b[0;34m(*args, **kwargs)\u001b[0m\n\u001b[1;32m    209\u001b[0m     \u001b[38;5;28;01melse\u001b[39;00m:\n\u001b[1;32m    210\u001b[0m         kwargs[new_arg_name] \u001b[38;5;241m=\u001b[39m new_arg_value\n\u001b[0;32m--> 211\u001b[0m \u001b[38;5;28;01mreturn\u001b[39;00m \u001b[43mfunc\u001b[49m\u001b[43m(\u001b[49m\u001b[38;5;241;43m*\u001b[39;49m\u001b[43margs\u001b[49m\u001b[43m,\u001b[49m\u001b[43m \u001b[49m\u001b[38;5;241;43m*\u001b[39;49m\u001b[38;5;241;43m*\u001b[39;49m\u001b[43mkwargs\u001b[49m\u001b[43m)\u001b[49m\n",
      "File \u001b[0;32m~/opt/miniconda3/envs/525_dev/lib/python3.10/site-packages/pandas/util/_decorators.py:331\u001b[0m, in \u001b[0;36mdeprecate_nonkeyword_arguments.<locals>.decorate.<locals>.wrapper\u001b[0;34m(*args, **kwargs)\u001b[0m\n\u001b[1;32m    325\u001b[0m \u001b[38;5;28;01mif\u001b[39;00m \u001b[38;5;28mlen\u001b[39m(args) \u001b[38;5;241m>\u001b[39m num_allow_args:\n\u001b[1;32m    326\u001b[0m     warnings\u001b[38;5;241m.\u001b[39mwarn(\n\u001b[1;32m    327\u001b[0m         msg\u001b[38;5;241m.\u001b[39mformat(arguments\u001b[38;5;241m=\u001b[39m_format_argument_list(allow_args)),\n\u001b[1;32m    328\u001b[0m         \u001b[38;5;167;01mFutureWarning\u001b[39;00m,\n\u001b[1;32m    329\u001b[0m         stacklevel\u001b[38;5;241m=\u001b[39mfind_stack_level(),\n\u001b[1;32m    330\u001b[0m     )\n\u001b[0;32m--> 331\u001b[0m \u001b[38;5;28;01mreturn\u001b[39;00m \u001b[43mfunc\u001b[49m\u001b[43m(\u001b[49m\u001b[38;5;241;43m*\u001b[39;49m\u001b[43margs\u001b[49m\u001b[43m,\u001b[49m\u001b[43m \u001b[49m\u001b[38;5;241;43m*\u001b[39;49m\u001b[38;5;241;43m*\u001b[39;49m\u001b[43mkwargs\u001b[49m\u001b[43m)\u001b[49m\n",
      "File \u001b[0;32m~/opt/miniconda3/envs/525_dev/lib/python3.10/site-packages/pandas/io/parsers/readers.py:950\u001b[0m, in \u001b[0;36mread_csv\u001b[0;34m(filepath_or_buffer, sep, delimiter, header, names, index_col, usecols, squeeze, prefix, mangle_dupe_cols, dtype, engine, converters, true_values, false_values, skipinitialspace, skiprows, skipfooter, nrows, na_values, keep_default_na, na_filter, verbose, skip_blank_lines, parse_dates, infer_datetime_format, keep_date_col, date_parser, dayfirst, cache_dates, iterator, chunksize, compression, thousands, decimal, lineterminator, quotechar, quoting, doublequote, escapechar, comment, encoding, encoding_errors, dialect, error_bad_lines, warn_bad_lines, on_bad_lines, delim_whitespace, low_memory, memory_map, float_precision, storage_options)\u001b[0m\n\u001b[1;32m    935\u001b[0m kwds_defaults \u001b[38;5;241m=\u001b[39m _refine_defaults_read(\n\u001b[1;32m    936\u001b[0m     dialect,\n\u001b[1;32m    937\u001b[0m     delimiter,\n\u001b[0;32m   (...)\u001b[0m\n\u001b[1;32m    946\u001b[0m     defaults\u001b[38;5;241m=\u001b[39m{\u001b[38;5;124m\"\u001b[39m\u001b[38;5;124mdelimiter\u001b[39m\u001b[38;5;124m\"\u001b[39m: \u001b[38;5;124m\"\u001b[39m\u001b[38;5;124m,\u001b[39m\u001b[38;5;124m\"\u001b[39m},\n\u001b[1;32m    947\u001b[0m )\n\u001b[1;32m    948\u001b[0m kwds\u001b[38;5;241m.\u001b[39mupdate(kwds_defaults)\n\u001b[0;32m--> 950\u001b[0m \u001b[38;5;28;01mreturn\u001b[39;00m \u001b[43m_read\u001b[49m\u001b[43m(\u001b[49m\u001b[43mfilepath_or_buffer\u001b[49m\u001b[43m,\u001b[49m\u001b[43m \u001b[49m\u001b[43mkwds\u001b[49m\u001b[43m)\u001b[49m\n",
      "File \u001b[0;32m~/opt/miniconda3/envs/525_dev/lib/python3.10/site-packages/pandas/io/parsers/readers.py:611\u001b[0m, in \u001b[0;36m_read\u001b[0;34m(filepath_or_buffer, kwds)\u001b[0m\n\u001b[1;32m    608\u001b[0m     \u001b[38;5;28;01mreturn\u001b[39;00m parser\n\u001b[1;32m    610\u001b[0m \u001b[38;5;28;01mwith\u001b[39;00m parser:\n\u001b[0;32m--> 611\u001b[0m     \u001b[38;5;28;01mreturn\u001b[39;00m \u001b[43mparser\u001b[49m\u001b[38;5;241;43m.\u001b[39;49m\u001b[43mread\u001b[49m\u001b[43m(\u001b[49m\u001b[43mnrows\u001b[49m\u001b[43m)\u001b[49m\n",
      "File \u001b[0;32m~/opt/miniconda3/envs/525_dev/lib/python3.10/site-packages/pandas/io/parsers/readers.py:1778\u001b[0m, in \u001b[0;36mTextFileReader.read\u001b[0;34m(self, nrows)\u001b[0m\n\u001b[1;32m   1771\u001b[0m nrows \u001b[38;5;241m=\u001b[39m validate_integer(\u001b[38;5;124m\"\u001b[39m\u001b[38;5;124mnrows\u001b[39m\u001b[38;5;124m\"\u001b[39m, nrows)\n\u001b[1;32m   1772\u001b[0m \u001b[38;5;28;01mtry\u001b[39;00m:\n\u001b[1;32m   1773\u001b[0m     \u001b[38;5;66;03m# error: \"ParserBase\" has no attribute \"read\"\u001b[39;00m\n\u001b[1;32m   1774\u001b[0m     (\n\u001b[1;32m   1775\u001b[0m         index,\n\u001b[1;32m   1776\u001b[0m         columns,\n\u001b[1;32m   1777\u001b[0m         col_dict,\n\u001b[0;32m-> 1778\u001b[0m     ) \u001b[38;5;241m=\u001b[39m \u001b[38;5;28;43mself\u001b[39;49m\u001b[38;5;241;43m.\u001b[39;49m\u001b[43m_engine\u001b[49m\u001b[38;5;241;43m.\u001b[39;49m\u001b[43mread\u001b[49m\u001b[43m(\u001b[49m\u001b[43m  \u001b[49m\u001b[38;5;66;43;03m# type: ignore[attr-defined]\u001b[39;49;00m\n\u001b[1;32m   1779\u001b[0m \u001b[43m        \u001b[49m\u001b[43mnrows\u001b[49m\n\u001b[1;32m   1780\u001b[0m \u001b[43m    \u001b[49m\u001b[43m)\u001b[49m\n\u001b[1;32m   1781\u001b[0m \u001b[38;5;28;01mexcept\u001b[39;00m \u001b[38;5;167;01mException\u001b[39;00m:\n\u001b[1;32m   1782\u001b[0m     \u001b[38;5;28mself\u001b[39m\u001b[38;5;241m.\u001b[39mclose()\n",
      "File \u001b[0;32m~/opt/miniconda3/envs/525_dev/lib/python3.10/site-packages/pandas/io/parsers/c_parser_wrapper.py:230\u001b[0m, in \u001b[0;36mCParserWrapper.read\u001b[0;34m(self, nrows)\u001b[0m\n\u001b[1;32m    228\u001b[0m \u001b[38;5;28;01mtry\u001b[39;00m:\n\u001b[1;32m    229\u001b[0m     \u001b[38;5;28;01mif\u001b[39;00m \u001b[38;5;28mself\u001b[39m\u001b[38;5;241m.\u001b[39mlow_memory:\n\u001b[0;32m--> 230\u001b[0m         chunks \u001b[38;5;241m=\u001b[39m \u001b[38;5;28;43mself\u001b[39;49m\u001b[38;5;241;43m.\u001b[39;49m\u001b[43m_reader\u001b[49m\u001b[38;5;241;43m.\u001b[39;49m\u001b[43mread_low_memory\u001b[49m\u001b[43m(\u001b[49m\u001b[43mnrows\u001b[49m\u001b[43m)\u001b[49m\n\u001b[1;32m    231\u001b[0m         \u001b[38;5;66;03m# destructive to chunks\u001b[39;00m\n\u001b[1;32m    232\u001b[0m         data \u001b[38;5;241m=\u001b[39m _concatenate_chunks(chunks)\n",
      "File \u001b[0;32m~/opt/miniconda3/envs/525_dev/lib/python3.10/site-packages/pandas/_libs/parsers.pyx:808\u001b[0m, in \u001b[0;36mpandas._libs.parsers.TextReader.read_low_memory\u001b[0;34m()\u001b[0m\n",
      "File \u001b[0;32m~/opt/miniconda3/envs/525_dev/lib/python3.10/site-packages/pandas/_libs/parsers.pyx:866\u001b[0m, in \u001b[0;36mpandas._libs.parsers.TextReader._read_rows\u001b[0;34m()\u001b[0m\n",
      "File \u001b[0;32m~/opt/miniconda3/envs/525_dev/lib/python3.10/site-packages/pandas/_libs/parsers.pyx:852\u001b[0m, in \u001b[0;36mpandas._libs.parsers.TextReader._tokenize_rows\u001b[0;34m()\u001b[0m\n",
      "File \u001b[0;32m~/opt/miniconda3/envs/525_dev/lib/python3.10/site-packages/pandas/_libs/parsers.pyx:1973\u001b[0m, in \u001b[0;36mpandas._libs.parsers.raise_parser_error\u001b[0;34m()\u001b[0m\n",
      "\u001b[0;31mParserError\u001b[0m: Error tokenizing data. C error: Calling read(nbytes) on source failed. Try engine='python'."
     ]
    }
   ],
   "source": [
    "df = pd.read_csv(\"rainfall/combined_data.csv\")"
   ]
  },
  {
   "cell_type": "code",
   "execution_count": 8,
   "id": "f495ce96-ef74-4392-b774-270c2973a37f",
   "metadata": {},
   "outputs": [
    {
     "name": "stdout",
     "output_type": "stream",
     "text": [
      "Memory taken up by combined_data is 3498.199336 MB\n"
     ]
    }
   ],
   "source": [
    "print(\"Memory taken up by combined_data is {} MB\".format(df.memory_usage().sum()/1e6))"
   ]
  },
  {
   "cell_type": "markdown",
   "id": "b60e1ee0-a2b1-4b0b-94f5-11641a3d2788",
   "metadata": {},
   "source": [
    "#### Using less columns"
   ]
  },
  {
   "cell_type": "code",
   "execution_count": 17,
   "id": "2ec33444-cea3-49bb-9d2f-7db75d5ce7de",
   "metadata": {},
   "outputs": [],
   "source": [
    "combined_data = pd.read_csv(\"rainfall/combined_data.csv\", usecols=['time', 'rain (mm/day)','model'])"
   ]
  },
  {
   "cell_type": "code",
   "execution_count": 19,
   "id": "50f64a77-e611-404d-a8e9-efed821ac306",
   "metadata": {},
   "outputs": [
    {
     "name": "stdout",
     "output_type": "stream",
     "text": [
      "Memory taken up by reduced data is 1499.22836 MB\n"
     ]
    }
   ],
   "source": [
    "print(\"Memory taken up by reduced data is {} MB\".format(combined_data.memory_usage().sum()/1e6))"
   ]
  },
  {
   "cell_type": "markdown",
   "id": "98fc1065-96f8-47f3-ab13-37d00f96e37d",
   "metadata": {},
   "source": [
    "#### Using dtype to reduce size"
   ]
  },
  {
   "cell_type": "code",
   "execution_count": null,
   "id": "96af4b20-0026-4a03-a7ee-8375b1a2a256",
   "metadata": {},
   "outputs": [],
   "source": [
    "import numpy as np"
   ]
  },
  {
   "cell_type": "code",
   "execution_count": null,
   "id": "d74728e2-a4c2-47fb-9a3d-bf9bcd410161",
   "metadata": {},
   "outputs": [],
   "source": [
    "dtype_dict = {\n",
    "    'lat_min': np.float16,\n",
    "    'lat_max': np.float16,\n",
    "    'lon_min': np.float16,\n",
    "    'lon_max': np.float16,\n",
    "    'rain (mm/day)': np.float32,\n",
    "\n",
    "}"
   ]
  },
  {
   "cell_type": "code",
   "execution_count": null,
   "id": "427abc31-1361-41e0-8991-bca47492de85",
   "metadata": {},
   "outputs": [],
   "source": [
    "df = pd.read_csv(\"rainfall/combined_data.csv\", dtype=dtype_dict)"
   ]
  },
  {
   "cell_type": "code",
   "execution_count": null,
   "id": "1dc062b3-d325-4ce6-aa77-969391a7e815",
   "metadata": {},
   "outputs": [],
   "source": [
    "print(\"Memory taken up by manipulating dtypes is {} MB\".format(df.memory_usage().sum()/1e6))"
   ]
  },
  {
   "cell_type": "markdown",
   "id": "6484f497-aebb-4649-b8b9-f1eed8ff1eb0",
   "metadata": {},
   "source": [
    "### Perform a simple EDA in Python"
   ]
  },
  {
   "cell_type": "code",
   "execution_count": 32,
   "id": "f014a36b-0b04-4902-ad69-efcdff5fd93e",
   "metadata": {},
   "outputs": [
    {
     "data": {
      "text/html": [
       "<div>\n",
       "<style scoped>\n",
       "    .dataframe tbody tr th:only-of-type {\n",
       "        vertical-align: middle;\n",
       "    }\n",
       "\n",
       "    .dataframe tbody tr th {\n",
       "        vertical-align: top;\n",
       "    }\n",
       "\n",
       "    .dataframe thead th {\n",
       "        text-align: right;\n",
       "    }\n",
       "</style>\n",
       "<table border=\"1\" class=\"dataframe\">\n",
       "  <thead>\n",
       "    <tr style=\"text-align: right;\">\n",
       "      <th></th>\n",
       "      <th>time</th>\n",
       "      <th>rain (mm/day)</th>\n",
       "      <th>model</th>\n",
       "    </tr>\n",
       "  </thead>\n",
       "  <tbody>\n",
       "    <tr>\n",
       "      <th>0</th>\n",
       "      <td>1889-01-01 12:00:00</td>\n",
       "      <td>4.244226e-13</td>\n",
       "      <td>data/MPI-ESM-1-2-HAM</td>\n",
       "    </tr>\n",
       "    <tr>\n",
       "      <th>1</th>\n",
       "      <td>1889-01-02 12:00:00</td>\n",
       "      <td>4.217326e-13</td>\n",
       "      <td>data/MPI-ESM-1-2-HAM</td>\n",
       "    </tr>\n",
       "    <tr>\n",
       "      <th>2</th>\n",
       "      <td>1889-01-03 12:00:00</td>\n",
       "      <td>4.498125e-13</td>\n",
       "      <td>data/MPI-ESM-1-2-HAM</td>\n",
       "    </tr>\n",
       "    <tr>\n",
       "      <th>3</th>\n",
       "      <td>1889-01-04 12:00:00</td>\n",
       "      <td>4.251282e-13</td>\n",
       "      <td>data/MPI-ESM-1-2-HAM</td>\n",
       "    </tr>\n",
       "    <tr>\n",
       "      <th>4</th>\n",
       "      <td>1889-01-05 12:00:00</td>\n",
       "      <td>4.270161e-13</td>\n",
       "      <td>data/MPI-ESM-1-2-HAM</td>\n",
       "    </tr>\n",
       "  </tbody>\n",
       "</table>\n",
       "</div>"
      ],
      "text/plain": [
       "                  time  rain (mm/day)                 model\n",
       "0  1889-01-01 12:00:00   4.244226e-13  data/MPI-ESM-1-2-HAM\n",
       "1  1889-01-02 12:00:00   4.217326e-13  data/MPI-ESM-1-2-HAM\n",
       "2  1889-01-03 12:00:00   4.498125e-13  data/MPI-ESM-1-2-HAM\n",
       "3  1889-01-04 12:00:00   4.251282e-13  data/MPI-ESM-1-2-HAM\n",
       "4  1889-01-05 12:00:00   4.270161e-13  data/MPI-ESM-1-2-HAM"
      ]
     },
     "execution_count": 32,
     "metadata": {},
     "output_type": "execute_result"
    }
   ],
   "source": [
    "combined_data.head()"
   ]
  },
  {
   "cell_type": "code",
   "execution_count": 40,
   "id": "42793b60-20a1-444e-98bd-0aba44d02d63",
   "metadata": {},
   "outputs": [],
   "source": [
    "%%time\n",
    "combined_data['time'] = pd.to_datetime(combined_data, infer_datetime_format=True)"
   ]
  },
  {
   "cell_type": "code",
   "execution_count": null,
   "id": "2ba2674b-4115-41e1-9471-3698c4f40b79",
   "metadata": {},
   "outputs": [],
   "source": [
    "%%time\n",
    "df = pd.DataFrame(combined_rain.groupby([combined_rain['time'].dt.year, combined_rain['model']])['rain (mm/day)'].mean()).reset_index()\n"
   ]
  },
  {
   "cell_type": "code",
   "execution_count": null,
   "id": "867637a9-5584-4a69-bdde-6e2ee5b9dcaf",
   "metadata": {},
   "outputs": [],
   "source": [
    "%%time\n",
    "year = 2013\n",
    "fig = px.bar(df[df['time']==year], x=\"model\", y=\"rain (mm/day)\")\n",
    "fig.show()\n"
   ]
  },
  {
   "cell_type": "code",
   "execution_count": null,
   "id": "ed7876c8-4fd9-4501-96c2-fb5685afcf59",
   "metadata": {},
   "outputs": [],
   "source": [
    "%%time\n",
    "Model = \"MIROC6\"\n",
    "fig = px.bar(df[df['model']==Model], x=\"time\", y=\"rain (mm/day)\")\n",
    "fig.show()\n"
   ]
  },
  {
   "cell_type": "code",
   "execution_count": null,
   "id": "1568a46b-b788-4c28-916b-c818ebfbb7c6",
   "metadata": {},
   "outputs": [],
   "source": [
    "%%time\n",
    "fig = px.scatter(df, x=\"time\", y=\"rain (mm/day)\", color = \"model\")\n",
    "fig.show()\n"
   ]
  },
  {
   "cell_type": "markdown",
   "id": "74d504df-1c27-42ed-953c-dfe3098f109c",
   "metadata": {},
   "source": [
    "### Perform a simple EDA in R\n"
   ]
  },
  {
   "cell_type": "code",
   "execution_count": 2,
   "id": "b79dbad7-185c-492b-86a0-952885fcb09d",
   "metadata": {},
   "outputs": [],
   "source": [
    "import os\n",
    "os.environ['R_HOME'] = '/Users/tanmayagarwal/opt/miniconda3/envs/525_dev/lib/R'\n",
    "\n",
    "\n",
    "\n",
    "\n",
    "\n"
   ]
  },
  {
   "cell_type": "code",
   "execution_count": 3,
   "id": "3909daa1-f9e5-4fcb-b385-a0b8de11ec96",
   "metadata": {
    "tags": []
   },
   "outputs": [],
   "source": [
    "import re\n",
    "import os\n",
    "import glob\n",
    "import zipfile\n",
    "import requests\n",
    "from urllib.request import urlretrieve\n",
    "import json\n",
    "import pandas as pd\n",
    "from IPython.display import display\n",
    "import pyarrow.dataset as ds\n",
    "import pyarrow as pa\n",
    "from pyarrow import csv\n",
    "import rpy2_arrow.pyarrow_rarrow as pyra"
   ]
  },
  {
   "cell_type": "code",
   "execution_count": 4,
   "id": "47029c20-bda1-44c6-9a5a-63d5138a7c16",
   "metadata": {},
   "outputs": [],
   "source": [
    "%load_ext rpy2.ipython\n"
   ]
  },
  {
   "cell_type": "code",
   "execution_count": 5,
   "id": "85247c18-44c3-4650-8219-0e6dda805dee",
   "metadata": {},
   "outputs": [
    {
     "name": "stdout",
     "output_type": "stream",
     "text": [
      "CPU times: user 12.9 s, sys: 1.2 s, total: 14.1 s\n",
      "Wall time: 13.2 s\n"
     ]
    }
   ],
   "source": [
    "%%time\n",
    "dataset = ds.dataset(\"rainfall/combined_data.csv\", format=\"csv\")\n",
    "# Converting the `pyarrow dataset` to a `pyarrow table`\n",
    "table = dataset.to_table()\n",
    "# Converting a `pyarrow table` to a `rarrow table`\n",
    "r_table = pyra.converter.py2rpy(table)"
   ]
  },
  {
   "cell_type": "code",
   "execution_count": 7,
   "id": "fda02379-8d54-4099-94b6-42bd5c753810",
   "metadata": {},
   "outputs": [
    {
     "name": "stdout",
     "output_type": "stream",
     "text": [
      "Table\n",
      "62,467,843 rows x 7 columns\n",
      "$ time      <timestamp[s]> 1889-01-01 04:00:00, 1889-01-02 04:00:00, 1889-01-03 …\n",
      "$ lat_min         <double> -35.43987, -35.43987, -35.43987, -35.43987, -35.43987…\n",
      "$ lat_max         <double> -33.57462, -33.57462, -33.57462, -33.57462, -33.57462…\n",
      "$ lon_min         <double> 141.5625, 141.5625, 141.5625, 141.5625, 141.5625, 141…\n",
      "$ lon_max         <double> 143.4375, 143.4375, 143.4375, 143.4375, 143.4375, 143…\n",
      "$ `rain (mm/day)` <double> 4.244226e-13, 4.217326e-13, 4.498125e-13, 4.251282e-1…\n",
      "$ model           <string> \"data/MPI-ESM-1-2-HAM\", \"data/MPI-ESM-1-2-HAM\", \"data…\n",
      "Table\n",
      "62467843 rows x 7 columns\n",
      "$time <timestamp[s]>\n",
      "$lat_min <double>\n",
      "$lat_max <double>\n",
      "$lon_min <double>\n",
      "$lon_max <double>\n",
      "$rain (mm/day) <double>\n",
      "$model <string>\n",
      "Time difference of 0.157701 secs\n",
      "CPU times: user 125 ms, sys: 32.9 ms, total: 158 ms\n",
      "Wall time: 179 ms\n"
     ]
    }
   ],
   "source": [
    "%%time\n",
    "%%R -i r_table\n",
    "start_time <- Sys.time()\n",
    "\n",
    "suppressMessages(library(dplyr))\n",
    "result <- r_table |>\n",
    "    glimpse()\n",
    "    \n",
    "print(result)\n",
    "\n",
    "end_time <- Sys.time()\n",
    "print(end_time - start_time)\n"
   ]
  },
  {
   "cell_type": "code",
   "execution_count": 9,
   "id": "4c0bfece-0ba0-4458-8379-fdf2cb24c7db",
   "metadata": {},
   "outputs": [
    {
     "name": "stdout",
     "output_type": "stream",
     "text": [
      "# A tibble: 27 × 2\n",
      "   model                       n\n",
      "   <chr>                   <int>\n",
      " 1 data/MPI-ESM-1-2-HAM   966420\n",
      " 2 data/AWI-ESM-1-1-LR    966420\n",
      " 3 data/NorESM2-LM        919800\n",
      " 4 data/ACCESS-CM2       1932840\n",
      " 5 data/FGOALS-f3-L      3219300\n",
      " 6 data/CMCC-CM2-HR4     3541230\n",
      " 7 data/MRI-ESM2-0       3037320\n",
      " 8 data/GFDL-CM4         3219300\n",
      " 9 data/BCC-CSM2-MR      3035340\n",
      "10 data/EC-Earth3-Veg-LR 3037320\n",
      "# ℹ 17 more rows\n",
      "# ℹ Use `print(n = ...)` to see more rows\n",
      "Time difference of 0.4325202 secs\n",
      "CPU times: user 1.23 s, sys: 319 ms, total: 1.55 s\n",
      "Wall time: 448 ms\n"
     ]
    }
   ],
   "source": [
    "%%time\n",
    "%%R -i r_table\n",
    "start_time <- Sys.time()\n",
    "\n",
    "suppressMessages(library(dplyr))\n",
    "result <- r_table |> count(model)\n",
    "    \n",
    "print(result |>  collect())\n",
    "\n",
    "end_time <- Sys.time()\n",
    "print(end_time - start_time)\n"
   ]
  }
 ],
 "metadata": {
  "kernelspec": {
   "display_name": "Python [conda env:525_dev]",
   "language": "python",
   "name": "conda-env-525_dev-py"
  },
  "language_info": {
   "codemirror_mode": {
    "name": "ipython",
    "version": 3
   },
   "file_extension": ".py",
   "mimetype": "text/x-python",
   "name": "python",
   "nbconvert_exporter": "python",
   "pygments_lexer": "ipython3",
   "version": "3.10.10"
  }
 },
 "nbformat": 4,
 "nbformat_minor": 5
}
